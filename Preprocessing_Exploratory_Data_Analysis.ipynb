{
 "cells": [
  {
   "cell_type": "markdown",
   "id": "3a3b5aca",
   "metadata": {},
   "source": [
    "# Load relevant libraries"
   ]
  },
  {
   "cell_type": "code",
   "execution_count": 1,
   "id": "d2a21dbf",
   "metadata": {},
   "outputs": [
    {
     "data": {
      "text/plain": [
       "'\\n!pip install --quiet transformers\\n!pip install --quiet pytorch-lightning\\n!pip install --upgrade torchvision\\n!pip install --upgrade torch\\n!pip install --upgrade torchaudio\\n!pip install --upgrade pytorch_lightning\\n!pip install --upgrade torchtext\\n!pip install plotly\\n!pip install spacy\\n!python -m spacy download en_core_web_sm\\n!pip install pyspellchecker\\n'"
      ]
     },
     "execution_count": 1,
     "metadata": {},
     "output_type": "execute_result"
    }
   ],
   "source": [
    "'''\n",
    "!pip install --quiet transformers\n",
    "!pip install --quiet pytorch-lightning\n",
    "!pip install --upgrade torchvision\n",
    "!pip install --upgrade torch\n",
    "!pip install --upgrade torchaudio\n",
    "!pip install --upgrade pytorch_lightning\n",
    "!pip install --upgrade torchtext\n",
    "!pip install plotly\n",
    "!pip install spacy\n",
    "!python -m spacy download en_core_web_sm\n",
    "!pip install pyspellchecker\n",
    "'''"
   ]
  },
  {
   "cell_type": "code",
   "execution_count": 2,
   "id": "8f5ae639",
   "metadata": {},
   "outputs": [
    {
     "data": {
      "text/html": [
       "        <script type=\"text/javascript\">\n",
       "        window.PlotlyConfig = {MathJaxConfig: 'local'};\n",
       "        if (window.MathJax) {MathJax.Hub.Config({SVG: {font: \"STIX-Web\"}});}\n",
       "        if (typeof require !== 'undefined') {\n",
       "        require.undef(\"plotly\");\n",
       "        requirejs.config({\n",
       "            paths: {\n",
       "                'plotly': ['https://cdn.plot.ly/plotly-2.9.0.min']\n",
       "            }\n",
       "        });\n",
       "        require(['plotly'], function(Plotly) {\n",
       "            window._Plotly = Plotly;\n",
       "        });\n",
       "        }\n",
       "        </script>\n",
       "        "
      ]
     },
     "metadata": {},
     "output_type": "display_data"
    }
   ],
   "source": [
    "import pandas as pd\n",
    "import numpy as np\n",
    "import seaborn as sns\n",
    "import matplotlib.pyplot as plt\n",
    "import os\n",
    "import re\n",
    "import spacy\n",
    "import torch\n",
    "import plotly as pe\n",
    "import plotly.express as px\n",
    "import cufflinks as cf\n",
    "cf.go_offline()"
   ]
  },
  {
   "cell_type": "markdown",
   "id": "63950f5c",
   "metadata": {},
   "source": [
    "# Loading Datasets"
   ]
  },
  {
   "cell_type": "markdown",
   "id": "96f7f18f",
   "metadata": {},
   "source": [
    "### Load Daily Mail/CNN Dataset"
   ]
  },
  {
   "cell_type": "code",
   "execution_count": 3,
   "id": "a0e38898",
   "metadata": {},
   "outputs": [],
   "source": [
    "daily_train_df = pd.read_csv('/Users/mac/Documents/BU Documents\\/School/Project /Project Code/cnn_dailymail/train.csv')\n",
    "daily_validation_df = pd.read_csv('/Users/mac/Documents/BU Documents\\/School/Project /Project Code/cnn_dailymail/validation.csv')\n",
    "daily_test_df = pd.read_csv('/Users/mac/Documents/BU Documents\\/School/Project /Project Code/cnn_dailymail/test.csv')"
   ]
  },
  {
   "cell_type": "code",
   "execution_count": 4,
   "id": "6e55470b",
   "metadata": {},
   "outputs": [
    {
     "data": {
      "text/html": [
       "<div>\n",
       "<style scoped>\n",
       "    .dataframe tbody tr th:only-of-type {\n",
       "        vertical-align: middle;\n",
       "    }\n",
       "\n",
       "    .dataframe tbody tr th {\n",
       "        vertical-align: top;\n",
       "    }\n",
       "\n",
       "    .dataframe thead th {\n",
       "        text-align: right;\n",
       "    }\n",
       "</style>\n",
       "<table border=\"1\" class=\"dataframe\">\n",
       "  <thead>\n",
       "    <tr style=\"text-align: right;\">\n",
       "      <th></th>\n",
       "      <th>id</th>\n",
       "      <th>article</th>\n",
       "      <th>highlights</th>\n",
       "    </tr>\n",
       "  </thead>\n",
       "  <tbody>\n",
       "    <tr>\n",
       "      <th>0</th>\n",
       "      <td>0001d1afc246a7964130f43ae940af6bc6c57f01</td>\n",
       "      <td>By . Associated Press . PUBLISHED: . 14:11 EST...</td>\n",
       "      <td>Bishop John Folda, of North Dakota, is taking ...</td>\n",
       "    </tr>\n",
       "    <tr>\n",
       "      <th>1</th>\n",
       "      <td>0002095e55fcbd3a2f366d9bf92a95433dc305ef</td>\n",
       "      <td>(CNN) -- Ralph Mata was an internal affairs li...</td>\n",
       "      <td>Criminal complaint: Cop used his role to help ...</td>\n",
       "    </tr>\n",
       "    <tr>\n",
       "      <th>2</th>\n",
       "      <td>00027e965c8264c35cc1bc55556db388da82b07f</td>\n",
       "      <td>A drunk driver who killed a young woman in a h...</td>\n",
       "      <td>Craig Eccleston-Todd, 27, had drunk at least t...</td>\n",
       "    </tr>\n",
       "    <tr>\n",
       "      <th>3</th>\n",
       "      <td>0002c17436637c4fe1837c935c04de47adb18e9a</td>\n",
       "      <td>(CNN) -- With a breezy sweep of his pen Presid...</td>\n",
       "      <td>Nina dos Santos says Europe must be ready to a...</td>\n",
       "    </tr>\n",
       "    <tr>\n",
       "      <th>4</th>\n",
       "      <td>0003ad6ef0c37534f80b55b4235108024b407f0b</td>\n",
       "      <td>Fleetwood are the only team still to have a 10...</td>\n",
       "      <td>Fleetwood top of League One after 2-0 win at S...</td>\n",
       "    </tr>\n",
       "    <tr>\n",
       "      <th>...</th>\n",
       "      <td>...</td>\n",
       "      <td>...</td>\n",
       "      <td>...</td>\n",
       "    </tr>\n",
       "    <tr>\n",
       "      <th>287108</th>\n",
       "      <td>fffdfb56fdf1a12d364562cc2b9b1d4de7481dee</td>\n",
       "      <td>By . James Rush . Former first daughter Chelse...</td>\n",
       "      <td>Chelsea Clinton said question of running for o...</td>\n",
       "    </tr>\n",
       "    <tr>\n",
       "      <th>287109</th>\n",
       "      <td>fffeecb8690b85de8c3faed80adbc7a978f9ae2a</td>\n",
       "      <td>An apologetic Vanilla Ice has given his first ...</td>\n",
       "      <td>Vanilla Ice, 47 - real name Robert Van Winkle ...</td>\n",
       "    </tr>\n",
       "    <tr>\n",
       "      <th>287110</th>\n",
       "      <td>ffff5231e4c71544bc6c97015cdb16c60e42b3f4</td>\n",
       "      <td>America's most lethal sniper claimed he wished...</td>\n",
       "      <td>America's most lethal sniper made comment in i...</td>\n",
       "    </tr>\n",
       "    <tr>\n",
       "      <th>287111</th>\n",
       "      <td>ffff924b14a8d82058b6c1c5368ff1113c1632af</td>\n",
       "      <td>By . Sara Malm . PUBLISHED: . 12:19 EST, 8 Mar...</td>\n",
       "      <td>A swarm of more than one million has crossed b...</td>\n",
       "    </tr>\n",
       "    <tr>\n",
       "      <th>287112</th>\n",
       "      <td>ffffd563a96104f5cf4493cfa701a65f31b06abf</td>\n",
       "      <td>(CNN)Former Florida Gov. Jeb Bush has decided ...</td>\n",
       "      <td>Other 2016 hopefuls maintain that Bush's annou...</td>\n",
       "    </tr>\n",
       "  </tbody>\n",
       "</table>\n",
       "<p>287113 rows × 3 columns</p>\n",
       "</div>"
      ],
      "text/plain": [
       "                                              id  \\\n",
       "0       0001d1afc246a7964130f43ae940af6bc6c57f01   \n",
       "1       0002095e55fcbd3a2f366d9bf92a95433dc305ef   \n",
       "2       00027e965c8264c35cc1bc55556db388da82b07f   \n",
       "3       0002c17436637c4fe1837c935c04de47adb18e9a   \n",
       "4       0003ad6ef0c37534f80b55b4235108024b407f0b   \n",
       "...                                          ...   \n",
       "287108  fffdfb56fdf1a12d364562cc2b9b1d4de7481dee   \n",
       "287109  fffeecb8690b85de8c3faed80adbc7a978f9ae2a   \n",
       "287110  ffff5231e4c71544bc6c97015cdb16c60e42b3f4   \n",
       "287111  ffff924b14a8d82058b6c1c5368ff1113c1632af   \n",
       "287112  ffffd563a96104f5cf4493cfa701a65f31b06abf   \n",
       "\n",
       "                                                  article  \\\n",
       "0       By . Associated Press . PUBLISHED: . 14:11 EST...   \n",
       "1       (CNN) -- Ralph Mata was an internal affairs li...   \n",
       "2       A drunk driver who killed a young woman in a h...   \n",
       "3       (CNN) -- With a breezy sweep of his pen Presid...   \n",
       "4       Fleetwood are the only team still to have a 10...   \n",
       "...                                                   ...   \n",
       "287108  By . James Rush . Former first daughter Chelse...   \n",
       "287109  An apologetic Vanilla Ice has given his first ...   \n",
       "287110  America's most lethal sniper claimed he wished...   \n",
       "287111  By . Sara Malm . PUBLISHED: . 12:19 EST, 8 Mar...   \n",
       "287112  (CNN)Former Florida Gov. Jeb Bush has decided ...   \n",
       "\n",
       "                                               highlights  \n",
       "0       Bishop John Folda, of North Dakota, is taking ...  \n",
       "1       Criminal complaint: Cop used his role to help ...  \n",
       "2       Craig Eccleston-Todd, 27, had drunk at least t...  \n",
       "3       Nina dos Santos says Europe must be ready to a...  \n",
       "4       Fleetwood top of League One after 2-0 win at S...  \n",
       "...                                                   ...  \n",
       "287108  Chelsea Clinton said question of running for o...  \n",
       "287109  Vanilla Ice, 47 - real name Robert Van Winkle ...  \n",
       "287110  America's most lethal sniper made comment in i...  \n",
       "287111  A swarm of more than one million has crossed b...  \n",
       "287112  Other 2016 hopefuls maintain that Bush's annou...  \n",
       "\n",
       "[287113 rows x 3 columns]"
      ]
     },
     "execution_count": 4,
     "metadata": {},
     "output_type": "execute_result"
    }
   ],
   "source": [
    "daily_train_df"
   ]
  },
  {
   "cell_type": "code",
   "execution_count": 5,
   "id": "7f2a9616",
   "metadata": {},
   "outputs": [
    {
     "data": {
      "text/html": [
       "<div>\n",
       "<style scoped>\n",
       "    .dataframe tbody tr th:only-of-type {\n",
       "        vertical-align: middle;\n",
       "    }\n",
       "\n",
       "    .dataframe tbody tr th {\n",
       "        vertical-align: top;\n",
       "    }\n",
       "\n",
       "    .dataframe thead th {\n",
       "        text-align: right;\n",
       "    }\n",
       "</style>\n",
       "<table border=\"1\" class=\"dataframe\">\n",
       "  <thead>\n",
       "    <tr style=\"text-align: right;\">\n",
       "      <th></th>\n",
       "      <th>id</th>\n",
       "      <th>article</th>\n",
       "      <th>highlights</th>\n",
       "    </tr>\n",
       "  </thead>\n",
       "  <tbody>\n",
       "    <tr>\n",
       "      <th>0</th>\n",
       "      <td>92c514c913c0bdfe25341af9fd72b29db544099b</td>\n",
       "      <td>Ever noticed how plane seats appear to be gett...</td>\n",
       "      <td>Experts question if  packed out planes are put...</td>\n",
       "    </tr>\n",
       "    <tr>\n",
       "      <th>1</th>\n",
       "      <td>2003841c7dc0e7c5b1a248f9cd536d727f27a45a</td>\n",
       "      <td>A drunk teenage boy had to be rescued by secur...</td>\n",
       "      <td>Drunk teenage boy climbed into lion enclosure ...</td>\n",
       "    </tr>\n",
       "    <tr>\n",
       "      <th>2</th>\n",
       "      <td>91b7d2311527f5c2b63a65ca98d21d9c92485149</td>\n",
       "      <td>Dougie Freedman is on the verge of agreeing a ...</td>\n",
       "      <td>Nottingham Forest are close to extending Dougi...</td>\n",
       "    </tr>\n",
       "    <tr>\n",
       "      <th>3</th>\n",
       "      <td>caabf9cbdf96eb1410295a673e953d304391bfbb</td>\n",
       "      <td>Liverpool target Neto is also wanted by PSG an...</td>\n",
       "      <td>Fiorentina goalkeeper Neto has been linked wit...</td>\n",
       "    </tr>\n",
       "    <tr>\n",
       "      <th>4</th>\n",
       "      <td>3da746a7d9afcaa659088c8366ef6347fe6b53ea</td>\n",
       "      <td>Bruce Jenner will break his silence in a two-h...</td>\n",
       "      <td>Tell-all interview with the reality TV star, 6...</td>\n",
       "    </tr>\n",
       "    <tr>\n",
       "      <th>...</th>\n",
       "      <td>...</td>\n",
       "      <td>...</td>\n",
       "      <td>...</td>\n",
       "    </tr>\n",
       "    <tr>\n",
       "      <th>11485</th>\n",
       "      <td>ed8674cc15b29a87d8df8de1efee353d71122272</td>\n",
       "      <td>Our young Earth may have collided with a body ...</td>\n",
       "      <td>Oxford scientists say a Mercury-like body stru...</td>\n",
       "    </tr>\n",
       "    <tr>\n",
       "      <th>11486</th>\n",
       "      <td>2f58d1a99e9c47914e4b1c31613e3a041cd9011e</td>\n",
       "      <td>A man facing trial for helping his former love...</td>\n",
       "      <td>Man accused of helping former lover kill woman...</td>\n",
       "    </tr>\n",
       "    <tr>\n",
       "      <th>11487</th>\n",
       "      <td>411f6d57825161c3a037b4742baccd6cd227c0c3</td>\n",
       "      <td>A dozen or more metal implements are arranged ...</td>\n",
       "      <td>Marianne Power tried the tuning fork facial at...</td>\n",
       "    </tr>\n",
       "    <tr>\n",
       "      <th>11488</th>\n",
       "      <td>b5683ef8342056b17b068e0d59bdbe87e3fe44ea</td>\n",
       "      <td>Brook Lopez dominated twin brother Robin with ...</td>\n",
       "      <td>Brooklyn Nets beat the Portland Trail Blazers ...</td>\n",
       "    </tr>\n",
       "    <tr>\n",
       "      <th>11489</th>\n",
       "      <td>a6a5491edb0c96c4391b6a8c4504416b3572b3a1</td>\n",
       "      <td>A Chinese hospital is being painstakingly move...</td>\n",
       "      <td>Chinese hospital marked for demolition because...</td>\n",
       "    </tr>\n",
       "  </tbody>\n",
       "</table>\n",
       "<p>11490 rows × 3 columns</p>\n",
       "</div>"
      ],
      "text/plain": [
       "                                             id  \\\n",
       "0      92c514c913c0bdfe25341af9fd72b29db544099b   \n",
       "1      2003841c7dc0e7c5b1a248f9cd536d727f27a45a   \n",
       "2      91b7d2311527f5c2b63a65ca98d21d9c92485149   \n",
       "3      caabf9cbdf96eb1410295a673e953d304391bfbb   \n",
       "4      3da746a7d9afcaa659088c8366ef6347fe6b53ea   \n",
       "...                                         ...   \n",
       "11485  ed8674cc15b29a87d8df8de1efee353d71122272   \n",
       "11486  2f58d1a99e9c47914e4b1c31613e3a041cd9011e   \n",
       "11487  411f6d57825161c3a037b4742baccd6cd227c0c3   \n",
       "11488  b5683ef8342056b17b068e0d59bdbe87e3fe44ea   \n",
       "11489  a6a5491edb0c96c4391b6a8c4504416b3572b3a1   \n",
       "\n",
       "                                                 article  \\\n",
       "0      Ever noticed how plane seats appear to be gett...   \n",
       "1      A drunk teenage boy had to be rescued by secur...   \n",
       "2      Dougie Freedman is on the verge of agreeing a ...   \n",
       "3      Liverpool target Neto is also wanted by PSG an...   \n",
       "4      Bruce Jenner will break his silence in a two-h...   \n",
       "...                                                  ...   \n",
       "11485  Our young Earth may have collided with a body ...   \n",
       "11486  A man facing trial for helping his former love...   \n",
       "11487  A dozen or more metal implements are arranged ...   \n",
       "11488  Brook Lopez dominated twin brother Robin with ...   \n",
       "11489  A Chinese hospital is being painstakingly move...   \n",
       "\n",
       "                                              highlights  \n",
       "0      Experts question if  packed out planes are put...  \n",
       "1      Drunk teenage boy climbed into lion enclosure ...  \n",
       "2      Nottingham Forest are close to extending Dougi...  \n",
       "3      Fiorentina goalkeeper Neto has been linked wit...  \n",
       "4      Tell-all interview with the reality TV star, 6...  \n",
       "...                                                  ...  \n",
       "11485  Oxford scientists say a Mercury-like body stru...  \n",
       "11486  Man accused of helping former lover kill woman...  \n",
       "11487  Marianne Power tried the tuning fork facial at...  \n",
       "11488  Brooklyn Nets beat the Portland Trail Blazers ...  \n",
       "11489  Chinese hospital marked for demolition because...  \n",
       "\n",
       "[11490 rows x 3 columns]"
      ]
     },
     "execution_count": 5,
     "metadata": {},
     "output_type": "execute_result"
    }
   ],
   "source": [
    "daily_test_df"
   ]
  },
  {
   "cell_type": "code",
   "execution_count": 6,
   "id": "7c13a0c3",
   "metadata": {},
   "outputs": [
    {
     "data": {
      "text/html": [
       "<div>\n",
       "<style scoped>\n",
       "    .dataframe tbody tr th:only-of-type {\n",
       "        vertical-align: middle;\n",
       "    }\n",
       "\n",
       "    .dataframe tbody tr th {\n",
       "        vertical-align: top;\n",
       "    }\n",
       "\n",
       "    .dataframe thead th {\n",
       "        text-align: right;\n",
       "    }\n",
       "</style>\n",
       "<table border=\"1\" class=\"dataframe\">\n",
       "  <thead>\n",
       "    <tr style=\"text-align: right;\">\n",
       "      <th></th>\n",
       "      <th>id</th>\n",
       "      <th>article</th>\n",
       "      <th>highlights</th>\n",
       "    </tr>\n",
       "  </thead>\n",
       "  <tbody>\n",
       "    <tr>\n",
       "      <th>0</th>\n",
       "      <td>61df4979ac5fcc2b71be46ed6fe5a46ce7f071c3</td>\n",
       "      <td>Sally Forrest, an actress-dancer who graced th...</td>\n",
       "      <td>Sally Forrest, an actress-dancer who graced th...</td>\n",
       "    </tr>\n",
       "    <tr>\n",
       "      <th>1</th>\n",
       "      <td>21c0bd69b7e7df285c3d1b1cf56d4da925980a68</td>\n",
       "      <td>A middle-school teacher in China has inked hun...</td>\n",
       "      <td>Works include pictures of Presidential Palace ...</td>\n",
       "    </tr>\n",
       "    <tr>\n",
       "      <th>2</th>\n",
       "      <td>56f340189cd128194b2e7cb8c26bb900e3a848b4</td>\n",
       "      <td>A man convicted of killing the father and sist...</td>\n",
       "      <td>Iftekhar Murtaza, 29, was convicted a year ago...</td>\n",
       "    </tr>\n",
       "    <tr>\n",
       "      <th>3</th>\n",
       "      <td>00a665151b89a53e5a08a389df8334f4106494c2</td>\n",
       "      <td>Avid rugby fan Prince Harry could barely watch...</td>\n",
       "      <td>Prince Harry in attendance for England's crunc...</td>\n",
       "    </tr>\n",
       "    <tr>\n",
       "      <th>4</th>\n",
       "      <td>9f6fbd3c497c4d28879bebebea220884f03eb41a</td>\n",
       "      <td>A Triple M Radio producer has been inundated w...</td>\n",
       "      <td>Nick Slater's colleagues uploaded a picture to...</td>\n",
       "    </tr>\n",
       "    <tr>\n",
       "      <th>...</th>\n",
       "      <td>...</td>\n",
       "      <td>...</td>\n",
       "      <td>...</td>\n",
       "    </tr>\n",
       "    <tr>\n",
       "      <th>13363</th>\n",
       "      <td>e93f721ba4949f21f33549c4a21d55ff456af979</td>\n",
       "      <td>All shops will be allowed to offer ‘click and ...</td>\n",
       "      <td>Shops won't have to apply for planning permiss...</td>\n",
       "    </tr>\n",
       "    <tr>\n",
       "      <th>13364</th>\n",
       "      <td>8df19a570ad14119a7d00f3bbe864fedf8c1691d</td>\n",
       "      <td>Mo Farah has had his nationality called into q...</td>\n",
       "      <td>Mo Farah broke the European half-marathon reco...</td>\n",
       "    </tr>\n",
       "    <tr>\n",
       "      <th>13365</th>\n",
       "      <td>2fdd5f89aa26e91ceea9b0ef264abfcfc3e6fa2e</td>\n",
       "      <td>Wolves kept their promotion hopes alive with a...</td>\n",
       "      <td>Wolves are three points off the play-off place...</td>\n",
       "    </tr>\n",
       "    <tr>\n",
       "      <th>13366</th>\n",
       "      <td>530d7b18d7a715b368b0745f9dfebfe353adeda8</td>\n",
       "      <td>A Brown University graduate student  has died ...</td>\n",
       "      <td>Hyoun Ju Sohn, a 25-year-old doctoral student,...</td>\n",
       "    </tr>\n",
       "    <tr>\n",
       "      <th>13367</th>\n",
       "      <td>42d6f6e10a45ff469fbe3ef7345838aa45dcdd61</td>\n",
       "      <td>As thousands of young Australians look to buy ...</td>\n",
       "      <td>60% of estate agents believe owning a home is ...</td>\n",
       "    </tr>\n",
       "  </tbody>\n",
       "</table>\n",
       "<p>13368 rows × 3 columns</p>\n",
       "</div>"
      ],
      "text/plain": [
       "                                             id  \\\n",
       "0      61df4979ac5fcc2b71be46ed6fe5a46ce7f071c3   \n",
       "1      21c0bd69b7e7df285c3d1b1cf56d4da925980a68   \n",
       "2      56f340189cd128194b2e7cb8c26bb900e3a848b4   \n",
       "3      00a665151b89a53e5a08a389df8334f4106494c2   \n",
       "4      9f6fbd3c497c4d28879bebebea220884f03eb41a   \n",
       "...                                         ...   \n",
       "13363  e93f721ba4949f21f33549c4a21d55ff456af979   \n",
       "13364  8df19a570ad14119a7d00f3bbe864fedf8c1691d   \n",
       "13365  2fdd5f89aa26e91ceea9b0ef264abfcfc3e6fa2e   \n",
       "13366  530d7b18d7a715b368b0745f9dfebfe353adeda8   \n",
       "13367  42d6f6e10a45ff469fbe3ef7345838aa45dcdd61   \n",
       "\n",
       "                                                 article  \\\n",
       "0      Sally Forrest, an actress-dancer who graced th...   \n",
       "1      A middle-school teacher in China has inked hun...   \n",
       "2      A man convicted of killing the father and sist...   \n",
       "3      Avid rugby fan Prince Harry could barely watch...   \n",
       "4      A Triple M Radio producer has been inundated w...   \n",
       "...                                                  ...   \n",
       "13363  All shops will be allowed to offer ‘click and ...   \n",
       "13364  Mo Farah has had his nationality called into q...   \n",
       "13365  Wolves kept their promotion hopes alive with a...   \n",
       "13366  A Brown University graduate student  has died ...   \n",
       "13367  As thousands of young Australians look to buy ...   \n",
       "\n",
       "                                              highlights  \n",
       "0      Sally Forrest, an actress-dancer who graced th...  \n",
       "1      Works include pictures of Presidential Palace ...  \n",
       "2      Iftekhar Murtaza, 29, was convicted a year ago...  \n",
       "3      Prince Harry in attendance for England's crunc...  \n",
       "4      Nick Slater's colleagues uploaded a picture to...  \n",
       "...                                                  ...  \n",
       "13363  Shops won't have to apply for planning permiss...  \n",
       "13364  Mo Farah broke the European half-marathon reco...  \n",
       "13365  Wolves are three points off the play-off place...  \n",
       "13366  Hyoun Ju Sohn, a 25-year-old doctoral student,...  \n",
       "13367  60% of estate agents believe owning a home is ...  \n",
       "\n",
       "[13368 rows x 3 columns]"
      ]
     },
     "execution_count": 6,
     "metadata": {},
     "output_type": "execute_result"
    }
   ],
   "source": [
    "daily_validation_df"
   ]
  },
  {
   "cell_type": "code",
   "execution_count": 7,
   "id": "54094f7d",
   "metadata": {},
   "outputs": [],
   "source": [
    "# Combine the datasets\n",
    "daily_df = pd.concat([daily_train_df, daily_test_df, daily_validation_df], ignore_index=True)"
   ]
  },
  {
   "cell_type": "code",
   "execution_count": 8,
   "id": "1b15d8e4",
   "metadata": {},
   "outputs": [
    {
     "data": {
      "text/html": [
       "<div>\n",
       "<style scoped>\n",
       "    .dataframe tbody tr th:only-of-type {\n",
       "        vertical-align: middle;\n",
       "    }\n",
       "\n",
       "    .dataframe tbody tr th {\n",
       "        vertical-align: top;\n",
       "    }\n",
       "\n",
       "    .dataframe thead th {\n",
       "        text-align: right;\n",
       "    }\n",
       "</style>\n",
       "<table border=\"1\" class=\"dataframe\">\n",
       "  <thead>\n",
       "    <tr style=\"text-align: right;\">\n",
       "      <th></th>\n",
       "      <th>id</th>\n",
       "      <th>article</th>\n",
       "      <th>highlights</th>\n",
       "    </tr>\n",
       "  </thead>\n",
       "  <tbody>\n",
       "    <tr>\n",
       "      <th>count</th>\n",
       "      <td>311971</td>\n",
       "      <td>311971</td>\n",
       "      <td>311971</td>\n",
       "    </tr>\n",
       "    <tr>\n",
       "      <th>unique</th>\n",
       "      <td>311971</td>\n",
       "      <td>308860</td>\n",
       "      <td>306929</td>\n",
       "    </tr>\n",
       "    <tr>\n",
       "      <th>top</th>\n",
       "      <td>0001d1afc246a7964130f43ae940af6bc6c57f01</td>\n",
       "      <td>Lexington, Missouri (CNN) -- Police arrested a...</td>\n",
       "      <td>This page includes the show Transcript and the...</td>\n",
       "    </tr>\n",
       "    <tr>\n",
       "      <th>freq</th>\n",
       "      <td>1</td>\n",
       "      <td>3</td>\n",
       "      <td>83</td>\n",
       "    </tr>\n",
       "  </tbody>\n",
       "</table>\n",
       "</div>"
      ],
      "text/plain": [
       "                                              id  \\\n",
       "count                                     311971   \n",
       "unique                                    311971   \n",
       "top     0001d1afc246a7964130f43ae940af6bc6c57f01   \n",
       "freq                                           1   \n",
       "\n",
       "                                                  article  \\\n",
       "count                                              311971   \n",
       "unique                                             308860   \n",
       "top     Lexington, Missouri (CNN) -- Police arrested a...   \n",
       "freq                                                    3   \n",
       "\n",
       "                                               highlights  \n",
       "count                                              311971  \n",
       "unique                                             306929  \n",
       "top     This page includes the show Transcript and the...  \n",
       "freq                                                   83  "
      ]
     },
     "execution_count": 8,
     "metadata": {},
     "output_type": "execute_result"
    }
   ],
   "source": [
    "daily_df.describe()"
   ]
  },
  {
   "cell_type": "code",
   "execution_count": 9,
   "id": "b397a56f",
   "metadata": {},
   "outputs": [
    {
     "name": "stdout",
     "output_type": "stream",
     "text": [
      "<class 'pandas.core.frame.DataFrame'>\n",
      "RangeIndex: 311971 entries, 0 to 311970\n",
      "Data columns (total 3 columns):\n",
      " #   Column      Non-Null Count   Dtype \n",
      "---  ------      --------------   ----- \n",
      " 0   id          311971 non-null  object\n",
      " 1   article     311971 non-null  object\n",
      " 2   highlights  311971 non-null  object\n",
      "dtypes: object(3)\n",
      "memory usage: 7.1+ MB\n"
     ]
    }
   ],
   "source": [
    "daily_df.info()"
   ]
  },
  {
   "cell_type": "markdown",
   "id": "bf012657",
   "metadata": {},
   "source": [
    "### Data Exploration for Daily Mail/CNN Dataset"
   ]
  },
  {
   "cell_type": "code",
   "execution_count": 10,
   "id": "5f4e1b78",
   "metadata": {},
   "outputs": [
    {
     "name": "stdout",
     "output_type": "stream",
     "text": [
      "Dataset - Summary Statistics:\n",
      "                                              id  \\\n",
      "count                                     311971   \n",
      "unique                                    311971   \n",
      "top     0001d1afc246a7964130f43ae940af6bc6c57f01   \n",
      "freq                                           1   \n",
      "\n",
      "                                                  article  \\\n",
      "count                                              311971   \n",
      "unique                                             308860   \n",
      "top     Lexington, Missouri (CNN) -- Police arrested a...   \n",
      "freq                                                    3   \n",
      "\n",
      "                                               highlights  \n",
      "count                                              311971  \n",
      "unique                                             306929  \n",
      "top     This page includes the show Transcript and the...  \n",
      "freq                                                   83  \n"
     ]
    }
   ],
   "source": [
    "# Summary statistics\n",
    "print(\"Dataset - Summary Statistics:\")\n",
    "print(daily_df.describe())"
   ]
  },
  {
   "cell_type": "code",
   "execution_count": 16,
   "id": "86d7ec30",
   "metadata": {
    "scrolled": true
   },
   "outputs": [
    {
     "data": {
      "image/png": "[encoded data removed]",
      "text/plain": [
       "<Figure size 720x360 with 1 Axes>"
      ]
     },
     "metadata": {
      "needs_background": "light"
     },
     "output_type": "display_data"
    }
   ],
   "source": [
    "# Distribution of article length\n",
    "daily_df['article_len'] = daily_df['article'].apply(lambda x: len(x.split()))\n",
    "plt.figure(figsize=(10, 5))\n",
    "sns.histplot(data=daily_df, x='article_len', bins=50)\n",
    "plt.title(\"Distribution of Article Lengths in Daily Mail/CNN\")\n",
    "plt.xlabel(\"Number of Words\")\n",
    "plt.ylabel(\"Frequency\")\n",
    "plt.show()"
   ]
  },
  {
   "cell_type": "code",
   "execution_count": 12,
   "id": "6ae11d37",
   "metadata": {},
   "outputs": [
    {
     "data": {
      "image/png": "[encoded data removed]",
      "text/plain": [
       "<Figure size 720x432 with 1 Axes>"
      ]
     },
     "metadata": {
      "needs_background": "light"
     },
     "output_type": "display_data"
    }
   ],
   "source": [
    "# Distribution of summary length\n",
    "daily_df['summary_len'] = daily_df['highlights'].apply(lambda x: len(x.split()))\n",
    "plt.figure(figsize=(10, 6))\n",
    "sns.violinplot(data=daily_df, x='summary_len')\n",
    "plt.title(\"Violin Plot of Summary Lengths in Daily Mail/CNN\")\n",
    "plt.xlabel(\"Number of Words\")\n",
    "plt.show()"
   ]
  },
  {
   "cell_type": "code",
   "execution_count": 17,
   "id": "c9889351",
   "metadata": {},
   "outputs": [
    {
     "name": "stdout",
     "output_type": "stream",
     "text": [
      "(311971, 2)\n",
      "(308870, 2)\n"
     ]
    }
   ],
   "source": [
    "daily_df = daily_df[['article', 'highlights']].copy() # Create a copy of the relevant columns (Article and Summary)\n",
    "print(daily_df.shape)\n",
    "daily_df.drop_duplicates(inplace=True)\n",
    "daily_df.dropna(axis=0,inplace=True)\n",
    "print(daily_df.shape)"
   ]
  },
  {
   "cell_type": "markdown",
   "id": "7f57893a",
   "metadata": {},
   "source": [
    "### Data Pre-processing for Daily Mail/CNN Dataset"
   ]
  },
  {
   "cell_type": "markdown",
   "id": "7386a0ff",
   "metadata": {},
   "source": [
    "#### Data Cleaning (Lowercasing, Removing Contractions, Punctuations, Special Characters, Numbers & Stop Words)"
   ]
  },
  {
   "cell_type": "code",
   "execution_count": 18,
   "id": "3cdd2a56",
   "metadata": {},
   "outputs": [],
   "source": [
    "# Load the spaCy English model and set up the stop_words\n",
    "nlp = spacy.load(\"en_core_web_sm\")\n",
    "stop_words = nlp.Defaults.stop_words"
   ]
  },
  {
   "cell_type": "code",
   "execution_count": 19,
   "id": "c457cd47",
   "metadata": {},
   "outputs": [],
   "source": [
    "# Setting up the contraction_mapping to get rid of contractions in the text\n",
    "contraction_mapping = {\"ain't\": \"is not\", \"aren't\": \"are not\",\"can't\": \"cannot\", \"'cause\": \"because\", \"could've\": \"could have\", \"couldn't\": \"could not\",\n",
    "                           \"didn't\": \"did not\",  \"doesn't\": \"does not\", \"don't\": \"do not\", \"hadn't\": \"had not\", \"hasn't\": \"has not\", \"haven't\": \"have not\",\n",
    "                           \"he'd\": \"he would\",\"he'll\": \"he will\", \"he's\": \"he is\", \"how'd\": \"how did\", \"how'd'y\": \"how do you\", \"how'll\": \"how will\", \"how's\": \"how is\",\n",
    "                           \"I'd\": \"I would\", \"I'd've\": \"I would have\", \"I'll\": \"I will\", \"I'll've\": \"I will have\",\"I'm\": \"I am\", \"I've\": \"I have\", \"i'd\": \"i would\",\n",
    "                           \"i'd've\": \"i would have\", \"i'll\": \"i will\",  \"i'll've\": \"i will have\",\"i'm\": \"i am\", \"i've\": \"i have\", \"isn't\": \"is not\", \"it'd\": \"it would\",\n",
    "                           \"it'd've\": \"it would have\", \"it'll\": \"it will\", \"it'll've\": \"it will have\",\"it's\": \"it is\", \"let's\": \"let us\", \"ma'am\": \"madam\",\n",
    "                           \"mayn't\": \"may not\", \"might've\": \"might have\",\"mightn't\": \"might not\",\"mightn't've\": \"might not have\", \"must've\": \"must have\",\n",
    "                           \"mustn't\": \"must not\", \"mustn't've\": \"must not have\", \"needn't\": \"need not\", \"needn't've\": \"need not have\",\"o'clock\": \"of the clock\",\n",
    "                           \"oughtn't\": \"ought not\", \"oughtn't've\": \"ought not have\", \"shan't\": \"shall not\", \"sha'n't\": \"shall not\", \"shan't've\": \"shall not have\",\n",
    "                           \"she'd\": \"she would\", \"she'd've\": \"she would have\", \"she'll\": \"she will\", \"she'll've\": \"she will have\", \"she's\": \"she is\",\n",
    "                           \"should've\": \"should have\", \"shouldn't\": \"should not\", \"shouldn't've\": \"should not have\", \"so've\": \"so have\",\"so's\": \"so as\",\n",
    "                           \"this's\": \"this is\",\"that'd\": \"that would\", \"that'd've\": \"that would have\", \"that's\": \"that is\", \"there'd\": \"there would\",\n",
    "                           \"there'd've\": \"there would have\", \"there's\": \"there is\", \"here's\": \"here is\",\"they'd\": \"they would\", \"they'd've\": \"they would have\",\n",
    "                           \"they'll\": \"they will\", \"they'll've\": \"they will have\", \"they're\": \"they are\", \"they've\": \"they have\", \"to've\": \"to have\",\n",
    "                           \"wasn't\": \"was not\", \"we'd\": \"we would\", \"we'd've\": \"we would have\", \"we'll\": \"we will\", \"we'll've\": \"we will have\", \"we're\": \"we are\",\n",
    "                           \"we've\": \"we have\", \"weren't\": \"were not\", \"what'll\": \"what will\", \"what'll've\": \"what will have\", \"what're\": \"what are\",\n",
    "                           \"what's\": \"what is\", \"what've\": \"what have\", \"when's\": \"when is\", \"when've\": \"when have\", \"where'd\": \"where did\", \"where's\": \"where is\",\n",
    "                           \"where've\": \"where have\", \"who'll\": \"who will\", \"who'll've\": \"who will have\", \"who's\": \"who is\", \"who've\": \"who have\",\n",
    "                           \"why's\": \"why is\", \"why've\": \"why have\", \"will've\": \"will have\", \"won't\": \"will not\", \"won't've\": \"will not have\",\n",
    "                           \"would've\": \"would have\", \"wouldn't\": \"would not\", \"wouldn't've\": \"would not have\", \"y'all\": \"you all\",\n",
    "                           \"y'all'd\": \"you all would\",\"y'all'd've\": \"you all would have\",\"y'all're\": \"you all are\",\"y'all've\": \"you all have\",\n",
    "                           \"you'd\": \"you would\", \"you'd've\": \"you would have\", \"you'll\": \"you will\", \"you'll've\": \"you will have\",\n",
    "                           \"you're\": \"you are\", \"you've\": \"you have\"}"
   ]
  },
  {
   "cell_type": "code",
   "execution_count": 20,
   "id": "bb50aa6e",
   "metadata": {},
   "outputs": [],
   "source": [
    "def text_cleaner(text, num):\n",
    "    \"\"\"\n",
    "    Cleans a text by performing various preprocessing steps such as removing unnecessary elements and normalizing the text.\n",
    "\n",
    "    Args:\n",
    "        text (str): The input text to be cleaned.\n",
    "        num (int): A flag indicating whether to remove stopwords (0) or not (1).\n",
    "\n",
    "    Returns:\n",
    "        str: The cleaned and processed text.\n",
    "    \"\"\"\n",
    "    # Replace newline characters with spaces\n",
    "    text = text.replace('\\n', ' ').replace('\\n\\n', ' ')\n",
    "    \n",
    "    # Convert to lowercase\n",
    "    newString = text.lower()\n",
    "    \n",
    "    # Remove content within parentheses\n",
    "    newString = re.sub(r'\\([^)]*\\)', '', newString)\n",
    "    \n",
    "    # Remove double quotes\n",
    "    newString = re.sub('\"', '', newString)\n",
    "    \n",
    "    # Replace contractions with their full forms\n",
    "    newString = ' '.join([contraction_mapping[t] if t in contraction_mapping else t for t in newString.split(\" \")])\n",
    "    \n",
    "    # Remove \"'s\" from words\n",
    "    newString = re.sub(r\"'s\\b\", \"\", newString)\n",
    "    \n",
    "    # Remove non-alphabetic characters\n",
    "    newString = re.sub(\"[^a-zA-Z]\", \" \", newString)\n",
    "    \n",
    "    # Replace multiple occurrences of 'm' with 'mm'\n",
    "    newString = re.sub('[m]{2,}', 'mm', newString)\n",
    "\n",
    "    # Tokenize and remove stop words (if num == 0)\n",
    "    if num == 0:\n",
    "        tokens = [w for w in newString.split() if not w in stop_words]\n",
    "    else:\n",
    "        tokens = newString.split()\n",
    "    \n",
    "    # Keep only words with more than one character\n",
    "    long_words = [i for i in tokens if len(i) > 1]\n",
    "    return (\" \".join(long_words)).strip()"
   ]
  },
  {
   "cell_type": "code",
   "execution_count": 21,
   "id": "cb4ace3a",
   "metadata": {},
   "outputs": [],
   "source": [
    "daily_cleaned_texts = []\n",
    "\n",
    "# clean articles\n",
    "for t in daily_df[\"article\"]:\n",
    "    daily_cleaned_texts.append(text_cleaner(t, 0)) # 0 to remove the stop words and get rid of unnecessary words\n",
    "\n",
    "# clean summaries\n",
    "daily_cleaned_summaries = []\n",
    "\n",
    "for s in daily_df[\"highlights\"]:\n",
    "    daily_cleaned_summaries.append(text_cleaner(s, 1)) #1 to retain most of the summarized text\n",
    "\n",
    "# create new dataframe for the cleaned texts and summaries \n",
    "daily_dataframe = pd.DataFrame(columns=[\"text\", \"summary\"])\n",
    "\n",
    "# put cleaned version of texts and summaries into the dataframe\n",
    "daily_dataframe[\"text\"] = daily_cleaned_texts\n",
    "daily_dataframe[\"summary\"] = daily_cleaned_summaries"
   ]
  },
  {
   "cell_type": "code",
   "execution_count": 22,
   "id": "5c89a85d",
   "metadata": {},
   "outputs": [
    {
     "data": {
      "text/html": [
       "<div>\n",
       "<style scoped>\n",
       "    .dataframe tbody tr th:only-of-type {\n",
       "        vertical-align: middle;\n",
       "    }\n",
       "\n",
       "    .dataframe tbody tr th {\n",
       "        vertical-align: top;\n",
       "    }\n",
       "\n",
       "    .dataframe thead th {\n",
       "        text-align: right;\n",
       "    }\n",
       "</style>\n",
       "<table border=\"1\" class=\"dataframe\">\n",
       "  <thead>\n",
       "    <tr style=\"text-align: right;\">\n",
       "      <th></th>\n",
       "      <th>text</th>\n",
       "      <th>summary</th>\n",
       "    </tr>\n",
       "  </thead>\n",
       "  <tbody>\n",
       "    <tr>\n",
       "      <th>0</th>\n",
       "      <td>associated press published est october updated...</td>\n",
       "      <td>bishop john folda of north dakota is taking ti...</td>\n",
       "    </tr>\n",
       "    <tr>\n",
       "      <th>1</th>\n",
       "      <td>ralph mata internal affairs lieutenant miami d...</td>\n",
       "      <td>criminal complaint cop used his role to help c...</td>\n",
       "    </tr>\n",
       "    <tr>\n",
       "      <th>2</th>\n",
       "      <td>drunk driver killed young woman head crash che...</td>\n",
       "      <td>craig eccleston todd had drunk at least three ...</td>\n",
       "    </tr>\n",
       "    <tr>\n",
       "      <th>3</th>\n",
       "      <td>breezy sweep pen president vladimir putin wrot...</td>\n",
       "      <td>nina dos santos says europe must be ready to a...</td>\n",
       "    </tr>\n",
       "    <tr>\n",
       "      <th>4</th>\n",
       "      <td>fleetwood team record sky bet league win scunt...</td>\n",
       "      <td>fleetwood top of league one after win at scunt...</td>\n",
       "    </tr>\n",
       "  </tbody>\n",
       "</table>\n",
       "</div>"
      ],
      "text/plain": [
       "                                                text  \\\n",
       "0  associated press published est october updated...   \n",
       "1  ralph mata internal affairs lieutenant miami d...   \n",
       "2  drunk driver killed young woman head crash che...   \n",
       "3  breezy sweep pen president vladimir putin wrot...   \n",
       "4  fleetwood team record sky bet league win scunt...   \n",
       "\n",
       "                                             summary  \n",
       "0  bishop john folda of north dakota is taking ti...  \n",
       "1  criminal complaint cop used his role to help c...  \n",
       "2  craig eccleston todd had drunk at least three ...  \n",
       "3  nina dos santos says europe must be ready to a...  \n",
       "4  fleetwood top of league one after win at scunt...  "
      ]
     },
     "execution_count": 22,
     "metadata": {},
     "output_type": "execute_result"
    }
   ],
   "source": [
    "daily_dataframe.head()"
   ]
  },
  {
   "cell_type": "code",
   "execution_count": 23,
   "id": "59fee6d4",
   "metadata": {},
   "outputs": [],
   "source": [
    "daily_dataframe.replace('', np.nan, inplace=True)\n",
    "daily_dataframe.dropna(axis=0,inplace=True)"
   ]
  },
  {
   "cell_type": "code",
   "execution_count": 24,
   "id": "9321d96a",
   "metadata": {},
   "outputs": [
    {
     "data": {
      "text/plain": [
       "(308870, 2)"
      ]
     },
     "execution_count": 24,
     "metadata": {},
     "output_type": "execute_result"
    }
   ],
   "source": [
    "daily_dataframe.shape"
   ]
  },
  {
   "cell_type": "markdown",
   "id": "8a79ff07",
   "metadata": {},
   "source": [
    "#### Removing outliers "
   ]
  },
  {
   "cell_type": "code",
   "execution_count": 25,
   "id": "d24f7644",
   "metadata": {},
   "outputs": [
    {
     "name": "stdout",
     "output_type": "stream",
     "text": [
      "90% of the texts are below this length: 575\n",
      "90% of the summaries are below this length: 70\n"
     ]
    }
   ],
   "source": [
    "def text_length_percentile(df, text_column, percentile):\n",
    "    \"\"\"\n",
    "    Calculate the text length at which a given percentile of texts are below that length.\n",
    "    \n",
    "    Args:\n",
    "    df (pandas.DataFrame): The DataFrame containing the text data.\n",
    "    text_column (str): The column name containing the text data.\n",
    "    percentile (float): The percentile to calculate (between 0 and 100).\n",
    "    \n",
    "    Returns:\n",
    "    int: The text length at the given percentile.\n",
    "    \"\"\"\n",
    "    # Calculate the length of each text\n",
    "    text_lengths = df[text_column].apply(lambda x: len(x.split()))\n",
    "    \n",
    "    # Calculate the length at the given percentile\n",
    "    length_at_percentile = np.percentile(text_lengths, percentile)\n",
    "    \n",
    "    return int(length_at_percentile)\n",
    "\n",
    "percentile = 90\n",
    "\n",
    "length_at_the_percentile = text_length_percentile(daily_dataframe, 'text', percentile)\n",
    "print(f\"{percentile}% of the texts are below this length: {length_at_the_percentile}\")\n",
    "\n",
    "length_at_the_percentile = text_length_percentile(daily_dataframe, 'summary', percentile)\n",
    "print(f\"{percentile}% of the summaries are below this length: {length_at_the_percentile}\")"
   ]
  },
  {
   "cell_type": "code",
   "execution_count": 26,
   "id": "821229be",
   "metadata": {},
   "outputs": [],
   "source": [
    "DAILY_MAX_TEXT_LEN = 575\n",
    "DAILY_MAX_SUMMARY_LEN = 70"
   ]
  },
  {
   "cell_type": "code",
   "execution_count": 27,
   "id": "d68b8e31",
   "metadata": {},
   "outputs": [],
   "source": [
    "daily_cleaned_text = np.array(daily_dataframe[\"text\"])\n",
    "daily_cleaned_summary = np.array(daily_dataframe[\"summary\"])\n",
    "\n",
    "# define lists for short text and short summaries\n",
    "daily_short_text = []\n",
    "daily_short_summary = []\n",
    "\n",
    "# clean outliers\n",
    "for i in range(len(daily_cleaned_text)):\n",
    "    if(len(daily_cleaned_summary[i].split()) <= DAILY_MAX_SUMMARY_LEN and len(daily_cleaned_text[i].split()) <= DAILY_MAX_TEXT_LEN):\n",
    "        daily_short_text.append(daily_cleaned_text[i])\n",
    "        daily_short_summary.append(daily_cleaned_summary[i])\n",
    "\n",
    "# change the dataframe\n",
    "final_dataframe = pd.DataFrame({\"source_text\":daily_short_text, \"target_text\":daily_short_summary})"
   ]
  },
  {
   "cell_type": "code",
   "execution_count": 31,
   "id": "adcdffb4",
   "metadata": {},
   "outputs": [
    {
     "data": {
      "image/png": "[encoded data removed]",
      "text/plain": [
       "<Figure size 720x432 with 1 Axes>"
      ]
     },
     "metadata": {
      "needs_background": "light"
     },
     "output_type": "display_data"
    }
   ],
   "source": [
    "# Distribution of article length after removing outliers\n",
    "final_dataframe['article_len'] = final_dataframe['source_text'].apply(lambda x: len(x.split()))\n",
    "plt.figure(figsize=(10, 6))\n",
    "sns.histplot(data=final_dataframe, x='article_len', bins=30)\n",
    "plt.title('Distribution of Article Lengths in DailyMail/CNN')\n",
    "plt.xlabel(\"Number of Words\")\n",
    "plt.ylabel(\"Frequency\")\n",
    "plt.show()"
   ]
  },
  {
   "cell_type": "code",
   "execution_count": 30,
   "id": "6aa8937a",
   "metadata": {},
   "outputs": [
    {
     "data": {
      "image/png": "[encoded data removed]",
      "text/plain": [
       "<Figure size 720x432 with 1 Axes>"
      ]
     },
     "metadata": {
      "needs_background": "light"
     },
     "output_type": "display_data"
    }
   ],
   "source": [
    "# Distribution of summary length\n",
    "final_dataframe['summary_len'] = final_dataframe['target_text'].apply(lambda x: len(x.split()))\n",
    "plt.figure(figsize=(10, 6))\n",
    "sns.violinplot(data=final_dataframe, x='summary_len')\n",
    "plt.title(\"Violin Plot of Summary Lengths in Daily Mail/CNN\")\n",
    "plt.xlabel(\"Number of Words\")\n",
    "plt.show()"
   ]
  },
  {
   "cell_type": "code",
   "execution_count": null,
   "id": "ff4798ed",
   "metadata": {},
   "outputs": [],
   "source": [
    "final_dataframe"
   ]
  },
  {
   "cell_type": "code",
   "execution_count": null,
   "id": "7dac16a8",
   "metadata": {},
   "outputs": [],
   "source": [
    "final_dataframe.to_csv('cnn_dailymail.csv')"
   ]
  },
  {
   "cell_type": "markdown",
   "id": "763d6fb7",
   "metadata": {},
   "source": [
    "### Load BBC News Dataset"
   ]
  },
  {
   "cell_type": "code",
   "execution_count": 32,
   "id": "da5256a0",
   "metadata": {},
   "outputs": [
    {
     "name": "stdout",
     "output_type": "stream",
     "text": [
      "Reading files from category: business\n",
      "Reading files from category: entertainment\n",
      "Reading files from category: politics\n",
      "Reading files from category: sport\n",
      "Reading files from category: tech\n",
      "Reading files from category: business\n",
      "Reading files from category: entertainment\n",
      "Reading files from category: politics\n",
      "Reading files from category: sport\n",
      "Reading files from category: tech\n",
      "Number of articles read: 2225\n",
      "Number of summaries read: 2225\n"
     ]
    },
    {
     "data": {
      "text/html": [
       "<div>\n",
       "<style scoped>\n",
       "    .dataframe tbody tr th:only-of-type {\n",
       "        vertical-align: middle;\n",
       "    }\n",
       "\n",
       "    .dataframe tbody tr th {\n",
       "        vertical-align: top;\n",
       "    }\n",
       "\n",
       "    .dataframe thead th {\n",
       "        text-align: right;\n",
       "    }\n",
       "</style>\n",
       "<table border=\"1\" class=\"dataframe\">\n",
       "  <thead>\n",
       "    <tr style=\"text-align: right;\">\n",
       "      <th></th>\n",
       "      <th>Category</th>\n",
       "      <th>Filename</th>\n",
       "      <th>Article</th>\n",
       "      <th>Summary</th>\n",
       "    </tr>\n",
       "  </thead>\n",
       "  <tbody>\n",
       "    <tr>\n",
       "      <th>0</th>\n",
       "      <td>business</td>\n",
       "      <td>289.txt</td>\n",
       "      <td>UK economy facing 'major risks'\\n\\nThe UK manu...</td>\n",
       "      <td>\"Despite some positive news for the export sec...</td>\n",
       "    </tr>\n",
       "    <tr>\n",
       "      <th>1</th>\n",
       "      <td>business</td>\n",
       "      <td>504.txt</td>\n",
       "      <td>Aids and climate top Davos agenda\\n\\nClimate c...</td>\n",
       "      <td>At the same time, about 100,000 people are exp...</td>\n",
       "    </tr>\n",
       "    <tr>\n",
       "      <th>2</th>\n",
       "      <td>business</td>\n",
       "      <td>262.txt</td>\n",
       "      <td>Asian quake hits European shares\\n\\nShares in ...</td>\n",
       "      <td>The unfolding scale of the disaster in south A...</td>\n",
       "    </tr>\n",
       "    <tr>\n",
       "      <th>3</th>\n",
       "      <td>business</td>\n",
       "      <td>276.txt</td>\n",
       "      <td>India power shares jump on debut\\n\\nShares in ...</td>\n",
       "      <td>Shares in India's largest power producer, Nati...</td>\n",
       "    </tr>\n",
       "    <tr>\n",
       "      <th>4</th>\n",
       "      <td>business</td>\n",
       "      <td>510.txt</td>\n",
       "      <td>Lacroix label bought by US firm\\n\\nLuxury good...</td>\n",
       "      <td>LVMH said the French designer's haute couture ...</td>\n",
       "    </tr>\n",
       "  </tbody>\n",
       "</table>\n",
       "</div>"
      ],
      "text/plain": [
       "   Category Filename                                            Article  \\\n",
       "0  business  289.txt  UK economy facing 'major risks'\\n\\nThe UK manu...   \n",
       "1  business  504.txt  Aids and climate top Davos agenda\\n\\nClimate c...   \n",
       "2  business  262.txt  Asian quake hits European shares\\n\\nShares in ...   \n",
       "3  business  276.txt  India power shares jump on debut\\n\\nShares in ...   \n",
       "4  business  510.txt  Lacroix label bought by US firm\\n\\nLuxury good...   \n",
       "\n",
       "                                             Summary  \n",
       "0  \"Despite some positive news for the export sec...  \n",
       "1  At the same time, about 100,000 people are exp...  \n",
       "2  The unfolding scale of the disaster in south A...  \n",
       "3  Shares in India's largest power producer, Nati...  \n",
       "4  LVMH said the French designer's haute couture ...  "
      ]
     },
     "execution_count": 32,
     "metadata": {},
     "output_type": "execute_result"
    }
   ],
   "source": [
    "def read_files_from_folder(folder_path):\n",
    "    \"\"\"\n",
    "    Reads text files from subfolders in the specified folder path.\n",
    "\n",
    "    Args:\n",
    "        folder_path (str): The path to the main folder containing subfolders for different categories.\n",
    "\n",
    "    Returns:\n",
    "        list: A list of tuples, each containing the category, filename, and content of a file.\n",
    "    \"\"\"\n",
    "    \n",
    "    data = []\n",
    "    categories = ['business', 'entertainment', 'politics', 'sport', 'tech']\n",
    "    \n",
    "    for category in categories:\n",
    "        category_path = os.path.join(folder_path, category)\n",
    "        if os.path.exists(category_path):\n",
    "            print(f\"Reading files from category: {category}\")\n",
    "            for filename in os.listdir(category_path):\n",
    "                file_path = os.path.join(category_path, filename)\n",
    "                if os.path.isfile(file_path):\n",
    "                    try:\n",
    "                        with open(file_path, 'r', encoding='utf-8') as file:\n",
    "                            content = file.read()\n",
    "                    except UnicodeDecodeError:\n",
    "                        with open(file_path, 'r', encoding='ISO-8859-1') as file:\n",
    "                            content = file.read()\n",
    "                    data.append((category, filename, content))\n",
    "        else:\n",
    "            print(f\"Category folder not found: {category_path}\")\n",
    "                    \n",
    "    return data\n",
    "\n",
    "# Paths to the folders\n",
    "articles_folder = '/Users/mac/Documents/BU Documents\\/School/Project /Project Code/BBC News Summary/News Articles'\n",
    "summaries_folder = '/Users/mac/Documents/BU Documents\\/School/Project /Project Code/BBC News Summary/Summaries'\n",
    "\n",
    "# Read the data\n",
    "articles_data = read_files_from_folder(articles_folder)\n",
    "summaries_data = read_files_from_folder(summaries_folder)\n",
    "\n",
    "# Check if data is read correctly\n",
    "print(f\"Number of articles read: {len(articles_data)}\")\n",
    "print(f\"Number of summaries read: {len(summaries_data)}\")\n",
    "\n",
    "# Create DataFrames\n",
    "df_articles = pd.DataFrame(articles_data, columns=['Category', 'Filename', 'Article'])\n",
    "df_summaries = pd.DataFrame(summaries_data, columns=['Category', 'Filename', 'Summary'])\n",
    "\n",
    "# Merge the DataFrames on 'Category' and 'Filename'\n",
    "data = pd.merge(df_articles, df_summaries, on=['Category', 'Filename'])\n",
    "data.head()"
   ]
  },
  {
   "cell_type": "code",
   "execution_count": 33,
   "id": "4e5ee8b5",
   "metadata": {},
   "outputs": [
    {
     "data": {
      "text/html": [
       "<div>\n",
       "<style scoped>\n",
       "    .dataframe tbody tr th:only-of-type {\n",
       "        vertical-align: middle;\n",
       "    }\n",
       "\n",
       "    .dataframe tbody tr th {\n",
       "        vertical-align: top;\n",
       "    }\n",
       "\n",
       "    .dataframe thead th {\n",
       "        text-align: right;\n",
       "    }\n",
       "</style>\n",
       "<table border=\"1\" class=\"dataframe\">\n",
       "  <thead>\n",
       "    <tr style=\"text-align: right;\">\n",
       "      <th></th>\n",
       "      <th>Category</th>\n",
       "      <th>Filename</th>\n",
       "      <th>Article</th>\n",
       "    </tr>\n",
       "  </thead>\n",
       "  <tbody>\n",
       "    <tr>\n",
       "      <th>0</th>\n",
       "      <td>business</td>\n",
       "      <td>289.txt</td>\n",
       "      <td>UK economy facing 'major risks'\\n\\nThe UK manu...</td>\n",
       "    </tr>\n",
       "    <tr>\n",
       "      <th>1</th>\n",
       "      <td>business</td>\n",
       "      <td>504.txt</td>\n",
       "      <td>Aids and climate top Davos agenda\\n\\nClimate c...</td>\n",
       "    </tr>\n",
       "    <tr>\n",
       "      <th>2</th>\n",
       "      <td>business</td>\n",
       "      <td>262.txt</td>\n",
       "      <td>Asian quake hits European shares\\n\\nShares in ...</td>\n",
       "    </tr>\n",
       "    <tr>\n",
       "      <th>3</th>\n",
       "      <td>business</td>\n",
       "      <td>276.txt</td>\n",
       "      <td>India power shares jump on debut\\n\\nShares in ...</td>\n",
       "    </tr>\n",
       "    <tr>\n",
       "      <th>4</th>\n",
       "      <td>business</td>\n",
       "      <td>510.txt</td>\n",
       "      <td>Lacroix label bought by US firm\\n\\nLuxury good...</td>\n",
       "    </tr>\n",
       "    <tr>\n",
       "      <th>...</th>\n",
       "      <td>...</td>\n",
       "      <td>...</td>\n",
       "      <td>...</td>\n",
       "    </tr>\n",
       "    <tr>\n",
       "      <th>2220</th>\n",
       "      <td>tech</td>\n",
       "      <td>086.txt</td>\n",
       "      <td>Warning over Windows Word files\\n\\nWriting a M...</td>\n",
       "    </tr>\n",
       "    <tr>\n",
       "      <th>2221</th>\n",
       "      <td>tech</td>\n",
       "      <td>253.txt</td>\n",
       "      <td>Fast lifts rise into record books\\n\\nTwo high-...</td>\n",
       "    </tr>\n",
       "    <tr>\n",
       "      <th>2222</th>\n",
       "      <td>tech</td>\n",
       "      <td>247.txt</td>\n",
       "      <td>Nintendo adds media playing to DS\\n\\nNintendo ...</td>\n",
       "    </tr>\n",
       "    <tr>\n",
       "      <th>2223</th>\n",
       "      <td>tech</td>\n",
       "      <td>290.txt</td>\n",
       "      <td>Fast moving phone viruses appear\\n\\nSecurity f...</td>\n",
       "    </tr>\n",
       "    <tr>\n",
       "      <th>2224</th>\n",
       "      <td>tech</td>\n",
       "      <td>284.txt</td>\n",
       "      <td>Hacker threat to Apple's iTunes\\n\\nUsers of Ap...</td>\n",
       "    </tr>\n",
       "  </tbody>\n",
       "</table>\n",
       "<p>2225 rows × 3 columns</p>\n",
       "</div>"
      ],
      "text/plain": [
       "      Category Filename                                            Article\n",
       "0     business  289.txt  UK economy facing 'major risks'\\n\\nThe UK manu...\n",
       "1     business  504.txt  Aids and climate top Davos agenda\\n\\nClimate c...\n",
       "2     business  262.txt  Asian quake hits European shares\\n\\nShares in ...\n",
       "3     business  276.txt  India power shares jump on debut\\n\\nShares in ...\n",
       "4     business  510.txt  Lacroix label bought by US firm\\n\\nLuxury good...\n",
       "...        ...      ...                                                ...\n",
       "2220      tech  086.txt  Warning over Windows Word files\\n\\nWriting a M...\n",
       "2221      tech  253.txt  Fast lifts rise into record books\\n\\nTwo high-...\n",
       "2222      tech  247.txt  Nintendo adds media playing to DS\\n\\nNintendo ...\n",
       "2223      tech  290.txt  Fast moving phone viruses appear\\n\\nSecurity f...\n",
       "2224      tech  284.txt  Hacker threat to Apple's iTunes\\n\\nUsers of Ap...\n",
       "\n",
       "[2225 rows x 3 columns]"
      ]
     },
     "execution_count": 33,
     "metadata": {},
     "output_type": "execute_result"
    }
   ],
   "source": [
    "df_articles"
   ]
  },
  {
   "cell_type": "code",
   "execution_count": 34,
   "id": "f36ba1d0",
   "metadata": {},
   "outputs": [
    {
     "data": {
      "text/html": [
       "<div>\n",
       "<style scoped>\n",
       "    .dataframe tbody tr th:only-of-type {\n",
       "        vertical-align: middle;\n",
       "    }\n",
       "\n",
       "    .dataframe tbody tr th {\n",
       "        vertical-align: top;\n",
       "    }\n",
       "\n",
       "    .dataframe thead th {\n",
       "        text-align: right;\n",
       "    }\n",
       "</style>\n",
       "<table border=\"1\" class=\"dataframe\">\n",
       "  <thead>\n",
       "    <tr style=\"text-align: right;\">\n",
       "      <th></th>\n",
       "      <th>Category</th>\n",
       "      <th>Filename</th>\n",
       "      <th>Summary</th>\n",
       "    </tr>\n",
       "  </thead>\n",
       "  <tbody>\n",
       "    <tr>\n",
       "      <th>0</th>\n",
       "      <td>business</td>\n",
       "      <td>289.txt</td>\n",
       "      <td>\"Despite some positive news for the export sec...</td>\n",
       "    </tr>\n",
       "    <tr>\n",
       "      <th>1</th>\n",
       "      <td>business</td>\n",
       "      <td>504.txt</td>\n",
       "      <td>At the same time, about 100,000 people are exp...</td>\n",
       "    </tr>\n",
       "    <tr>\n",
       "      <th>2</th>\n",
       "      <td>business</td>\n",
       "      <td>262.txt</td>\n",
       "      <td>The unfolding scale of the disaster in south A...</td>\n",
       "    </tr>\n",
       "    <tr>\n",
       "      <th>3</th>\n",
       "      <td>business</td>\n",
       "      <td>276.txt</td>\n",
       "      <td>Shares in India's largest power producer, Nati...</td>\n",
       "    </tr>\n",
       "    <tr>\n",
       "      <th>4</th>\n",
       "      <td>business</td>\n",
       "      <td>510.txt</td>\n",
       "      <td>LVMH said the French designer's haute couture ...</td>\n",
       "    </tr>\n",
       "    <tr>\n",
       "      <th>...</th>\n",
       "      <td>...</td>\n",
       "      <td>...</td>\n",
       "      <td>...</td>\n",
       "    </tr>\n",
       "    <tr>\n",
       "      <th>2220</th>\n",
       "      <td>tech</td>\n",
       "      <td>086.txt</td>\n",
       "      <td>Writing a Microsoft Word document can be a dan...</td>\n",
       "    </tr>\n",
       "    <tr>\n",
       "      <th>2221</th>\n",
       "      <td>tech</td>\n",
       "      <td>253.txt</td>\n",
       "      <td>The lifts take only 30 seconds to whisk passen...</td>\n",
       "    </tr>\n",
       "    <tr>\n",
       "      <th>2222</th>\n",
       "      <td>tech</td>\n",
       "      <td>247.txt</td>\n",
       "      <td>Nintendo is releasing an adapter for its DS ha...</td>\n",
       "    </tr>\n",
       "    <tr>\n",
       "      <th>2223</th>\n",
       "      <td>tech</td>\n",
       "      <td>290.txt</td>\n",
       "      <td>The new strains of the Cabir mobile phone viru...</td>\n",
       "    </tr>\n",
       "    <tr>\n",
       "      <th>2224</th>\n",
       "      <td>tech</td>\n",
       "      <td>284.txt</td>\n",
       "      <td>Security firm iDefence, which notified users o...</td>\n",
       "    </tr>\n",
       "  </tbody>\n",
       "</table>\n",
       "<p>2225 rows × 3 columns</p>\n",
       "</div>"
      ],
      "text/plain": [
       "      Category Filename                                            Summary\n",
       "0     business  289.txt  \"Despite some positive news for the export sec...\n",
       "1     business  504.txt  At the same time, about 100,000 people are exp...\n",
       "2     business  262.txt  The unfolding scale of the disaster in south A...\n",
       "3     business  276.txt  Shares in India's largest power producer, Nati...\n",
       "4     business  510.txt  LVMH said the French designer's haute couture ...\n",
       "...        ...      ...                                                ...\n",
       "2220      tech  086.txt  Writing a Microsoft Word document can be a dan...\n",
       "2221      tech  253.txt  The lifts take only 30 seconds to whisk passen...\n",
       "2222      tech  247.txt  Nintendo is releasing an adapter for its DS ha...\n",
       "2223      tech  290.txt  The new strains of the Cabir mobile phone viru...\n",
       "2224      tech  284.txt  Security firm iDefence, which notified users o...\n",
       "\n",
       "[2225 rows x 3 columns]"
      ]
     },
     "execution_count": 34,
     "metadata": {},
     "output_type": "execute_result"
    }
   ],
   "source": [
    "df_summaries"
   ]
  },
  {
   "cell_type": "code",
   "execution_count": 35,
   "id": "2fe6f9e4",
   "metadata": {},
   "outputs": [
    {
     "name": "stdout",
     "output_type": "stream",
     "text": [
      "(2225, 3)\n",
      "(2127, 3)\n"
     ]
    }
   ],
   "source": [
    "df = data[['Article', 'Summary', 'Category']].copy() # Creating a copy of the relevant columns (Article, Category and Summary) in the dataset\n",
    "print(df.shape)\n",
    "df.drop_duplicates(inplace=True)\n",
    "df.dropna(axis=0,inplace=True)\n",
    "print(df.shape)"
   ]
  },
  {
   "cell_type": "code",
   "execution_count": 36,
   "id": "f6f9c99a",
   "metadata": {},
   "outputs": [
    {
     "data": {
      "text/html": [
       "<div>\n",
       "<style scoped>\n",
       "    .dataframe tbody tr th:only-of-type {\n",
       "        vertical-align: middle;\n",
       "    }\n",
       "\n",
       "    .dataframe tbody tr th {\n",
       "        vertical-align: top;\n",
       "    }\n",
       "\n",
       "    .dataframe thead th {\n",
       "        text-align: right;\n",
       "    }\n",
       "</style>\n",
       "<table border=\"1\" class=\"dataframe\">\n",
       "  <thead>\n",
       "    <tr style=\"text-align: right;\">\n",
       "      <th></th>\n",
       "      <th>Article</th>\n",
       "      <th>Summary</th>\n",
       "      <th>Category</th>\n",
       "    </tr>\n",
       "  </thead>\n",
       "  <tbody>\n",
       "    <tr>\n",
       "      <th>0</th>\n",
       "      <td>UK economy facing 'major risks'\\n\\nThe UK manu...</td>\n",
       "      <td>\"Despite some positive news for the export sec...</td>\n",
       "      <td>business</td>\n",
       "    </tr>\n",
       "    <tr>\n",
       "      <th>1</th>\n",
       "      <td>Aids and climate top Davos agenda\\n\\nClimate c...</td>\n",
       "      <td>At the same time, about 100,000 people are exp...</td>\n",
       "      <td>business</td>\n",
       "    </tr>\n",
       "    <tr>\n",
       "      <th>2</th>\n",
       "      <td>Asian quake hits European shares\\n\\nShares in ...</td>\n",
       "      <td>The unfolding scale of the disaster in south A...</td>\n",
       "      <td>business</td>\n",
       "    </tr>\n",
       "    <tr>\n",
       "      <th>3</th>\n",
       "      <td>India power shares jump on debut\\n\\nShares in ...</td>\n",
       "      <td>Shares in India's largest power producer, Nati...</td>\n",
       "      <td>business</td>\n",
       "    </tr>\n",
       "    <tr>\n",
       "      <th>4</th>\n",
       "      <td>Lacroix label bought by US firm\\n\\nLuxury good...</td>\n",
       "      <td>LVMH said the French designer's haute couture ...</td>\n",
       "      <td>business</td>\n",
       "    </tr>\n",
       "    <tr>\n",
       "      <th>...</th>\n",
       "      <td>...</td>\n",
       "      <td>...</td>\n",
       "      <td>...</td>\n",
       "    </tr>\n",
       "    <tr>\n",
       "      <th>2220</th>\n",
       "      <td>Warning over Windows Word files\\n\\nWriting a M...</td>\n",
       "      <td>Writing a Microsoft Word document can be a dan...</td>\n",
       "      <td>tech</td>\n",
       "    </tr>\n",
       "    <tr>\n",
       "      <th>2221</th>\n",
       "      <td>Fast lifts rise into record books\\n\\nTwo high-...</td>\n",
       "      <td>The lifts take only 30 seconds to whisk passen...</td>\n",
       "      <td>tech</td>\n",
       "    </tr>\n",
       "    <tr>\n",
       "      <th>2222</th>\n",
       "      <td>Nintendo adds media playing to DS\\n\\nNintendo ...</td>\n",
       "      <td>Nintendo is releasing an adapter for its DS ha...</td>\n",
       "      <td>tech</td>\n",
       "    </tr>\n",
       "    <tr>\n",
       "      <th>2223</th>\n",
       "      <td>Fast moving phone viruses appear\\n\\nSecurity f...</td>\n",
       "      <td>The new strains of the Cabir mobile phone viru...</td>\n",
       "      <td>tech</td>\n",
       "    </tr>\n",
       "    <tr>\n",
       "      <th>2224</th>\n",
       "      <td>Hacker threat to Apple's iTunes\\n\\nUsers of Ap...</td>\n",
       "      <td>Security firm iDefence, which notified users o...</td>\n",
       "      <td>tech</td>\n",
       "    </tr>\n",
       "  </tbody>\n",
       "</table>\n",
       "<p>2127 rows × 3 columns</p>\n",
       "</div>"
      ],
      "text/plain": [
       "                                                Article  \\\n",
       "0     UK economy facing 'major risks'\\n\\nThe UK manu...   \n",
       "1     Aids and climate top Davos agenda\\n\\nClimate c...   \n",
       "2     Asian quake hits European shares\\n\\nShares in ...   \n",
       "3     India power shares jump on debut\\n\\nShares in ...   \n",
       "4     Lacroix label bought by US firm\\n\\nLuxury good...   \n",
       "...                                                 ...   \n",
       "2220  Warning over Windows Word files\\n\\nWriting a M...   \n",
       "2221  Fast lifts rise into record books\\n\\nTwo high-...   \n",
       "2222  Nintendo adds media playing to DS\\n\\nNintendo ...   \n",
       "2223  Fast moving phone viruses appear\\n\\nSecurity f...   \n",
       "2224  Hacker threat to Apple's iTunes\\n\\nUsers of Ap...   \n",
       "\n",
       "                                                Summary  Category  \n",
       "0     \"Despite some positive news for the export sec...  business  \n",
       "1     At the same time, about 100,000 people are exp...  business  \n",
       "2     The unfolding scale of the disaster in south A...  business  \n",
       "3     Shares in India's largest power producer, Nati...  business  \n",
       "4     LVMH said the French designer's haute couture ...  business  \n",
       "...                                                 ...       ...  \n",
       "2220  Writing a Microsoft Word document can be a dan...      tech  \n",
       "2221  The lifts take only 30 seconds to whisk passen...      tech  \n",
       "2222  Nintendo is releasing an adapter for its DS ha...      tech  \n",
       "2223  The new strains of the Cabir mobile phone viru...      tech  \n",
       "2224  Security firm iDefence, which notified users o...      tech  \n",
       "\n",
       "[2127 rows x 3 columns]"
      ]
     },
     "execution_count": 36,
     "metadata": {},
     "output_type": "execute_result"
    }
   ],
   "source": [
    "df"
   ]
  },
  {
   "cell_type": "code",
   "execution_count": 37,
   "id": "d7bbc445",
   "metadata": {},
   "outputs": [
    {
     "name": "stdout",
     "output_type": "stream",
     "text": [
      "<class 'pandas.core.frame.DataFrame'>\n",
      "Int64Index: 2127 entries, 0 to 2224\n",
      "Data columns (total 3 columns):\n",
      " #   Column    Non-Null Count  Dtype \n",
      "---  ------    --------------  ----- \n",
      " 0   Article   2127 non-null   object\n",
      " 1   Summary   2127 non-null   object\n",
      " 2   Category  2127 non-null   object\n",
      "dtypes: object(3)\n",
      "memory usage: 66.5+ KB\n"
     ]
    }
   ],
   "source": [
    "df.info()"
   ]
  },
  {
   "cell_type": "markdown",
   "id": "ceb5c2f1",
   "metadata": {},
   "source": [
    "### Data Exploration"
   ]
  },
  {
   "cell_type": "code",
   "execution_count": 38,
   "id": "8eb18f37",
   "metadata": {},
   "outputs": [
    {
     "data": {
      "image/png": "[encoded data removed]",
      "text/plain": [
       "<Figure size 720x432 with 1 Axes>"
      ]
     },
     "metadata": {
      "needs_background": "light"
     },
     "output_type": "display_data"
    }
   ],
   "source": [
    "category_sizes = df.groupby('Category').size()\n",
    "plt.figure(figsize=(10, 6))\n",
    "sns.barplot(x=category_sizes.index, y=category_sizes)\n",
    "plt.show()"
   ]
  },
  {
   "cell_type": "code",
   "execution_count": 39,
   "id": "081155ee",
   "metadata": {},
   "outputs": [],
   "source": [
    "#getting the length of each article and summary for analysis\n",
    "df['articles_length'] = df['Article'].apply(lambda x: len(x.split()))\n",
    "df['summaries_length'] = df['Summary'].apply(lambda x: len(x.split()))"
   ]
  },
  {
   "cell_type": "code",
   "execution_count": 40,
   "id": "2716c9d3",
   "metadata": {},
   "outputs": [
    {
     "data": {
      "text/html": [
       "<div>\n",
       "<style scoped>\n",
       "    .dataframe tbody tr th:only-of-type {\n",
       "        vertical-align: middle;\n",
       "    }\n",
       "\n",
       "    .dataframe tbody tr th {\n",
       "        vertical-align: top;\n",
       "    }\n",
       "\n",
       "    .dataframe thead th {\n",
       "        text-align: right;\n",
       "    }\n",
       "</style>\n",
       "<table border=\"1\" class=\"dataframe\">\n",
       "  <thead>\n",
       "    <tr style=\"text-align: right;\">\n",
       "      <th></th>\n",
       "      <th>Article</th>\n",
       "      <th>Summary</th>\n",
       "      <th>Category</th>\n",
       "      <th>articles_length</th>\n",
       "      <th>summaries_length</th>\n",
       "    </tr>\n",
       "  </thead>\n",
       "  <tbody>\n",
       "    <tr>\n",
       "      <th>0</th>\n",
       "      <td>UK economy facing 'major risks'\\n\\nThe UK manu...</td>\n",
       "      <td>\"Despite some positive news for the export sec...</td>\n",
       "      <td>business</td>\n",
       "      <td>324</td>\n",
       "      <td>129</td>\n",
       "    </tr>\n",
       "    <tr>\n",
       "      <th>1</th>\n",
       "      <td>Aids and climate top Davos agenda\\n\\nClimate c...</td>\n",
       "      <td>At the same time, about 100,000 people are exp...</td>\n",
       "      <td>business</td>\n",
       "      <td>448</td>\n",
       "      <td>259</td>\n",
       "    </tr>\n",
       "    <tr>\n",
       "      <th>2</th>\n",
       "      <td>Asian quake hits European shares\\n\\nShares in ...</td>\n",
       "      <td>The unfolding scale of the disaster in south A...</td>\n",
       "      <td>business</td>\n",
       "      <td>546</td>\n",
       "      <td>253</td>\n",
       "    </tr>\n",
       "    <tr>\n",
       "      <th>3</th>\n",
       "      <td>India power shares jump on debut\\n\\nShares in ...</td>\n",
       "      <td>Shares in India's largest power producer, Nati...</td>\n",
       "      <td>business</td>\n",
       "      <td>173</td>\n",
       "      <td>71</td>\n",
       "    </tr>\n",
       "    <tr>\n",
       "      <th>4</th>\n",
       "      <td>Lacroix label bought by US firm\\n\\nLuxury good...</td>\n",
       "      <td>LVMH said the French designer's haute couture ...</td>\n",
       "      <td>business</td>\n",
       "      <td>150</td>\n",
       "      <td>47</td>\n",
       "    </tr>\n",
       "    <tr>\n",
       "      <th>...</th>\n",
       "      <td>...</td>\n",
       "      <td>...</td>\n",
       "      <td>...</td>\n",
       "      <td>...</td>\n",
       "      <td>...</td>\n",
       "    </tr>\n",
       "    <tr>\n",
       "      <th>2220</th>\n",
       "      <td>Warning over Windows Word files\\n\\nWriting a M...</td>\n",
       "      <td>Writing a Microsoft Word document can be a dan...</td>\n",
       "      <td>tech</td>\n",
       "      <td>460</td>\n",
       "      <td>182</td>\n",
       "    </tr>\n",
       "    <tr>\n",
       "      <th>2221</th>\n",
       "      <td>Fast lifts rise into record books\\n\\nTwo high-...</td>\n",
       "      <td>The lifts take only 30 seconds to whisk passen...</td>\n",
       "      <td>tech</td>\n",
       "      <td>384</td>\n",
       "      <td>205</td>\n",
       "    </tr>\n",
       "    <tr>\n",
       "      <th>2222</th>\n",
       "      <td>Nintendo adds media playing to DS\\n\\nNintendo ...</td>\n",
       "      <td>Nintendo is releasing an adapter for its DS ha...</td>\n",
       "      <td>tech</td>\n",
       "      <td>293</td>\n",
       "      <td>102</td>\n",
       "    </tr>\n",
       "    <tr>\n",
       "      <th>2223</th>\n",
       "      <td>Fast moving phone viruses appear\\n\\nSecurity f...</td>\n",
       "      <td>The new strains of the Cabir mobile phone viru...</td>\n",
       "      <td>tech</td>\n",
       "      <td>331</td>\n",
       "      <td>138</td>\n",
       "    </tr>\n",
       "    <tr>\n",
       "      <th>2224</th>\n",
       "      <td>Hacker threat to Apple's iTunes\\n\\nUsers of Ap...</td>\n",
       "      <td>Security firm iDefence, which notified users o...</td>\n",
       "      <td>tech</td>\n",
       "      <td>162</td>\n",
       "      <td>65</td>\n",
       "    </tr>\n",
       "  </tbody>\n",
       "</table>\n",
       "<p>2127 rows × 5 columns</p>\n",
       "</div>"
      ],
      "text/plain": [
       "                                                Article  \\\n",
       "0     UK economy facing 'major risks'\\n\\nThe UK manu...   \n",
       "1     Aids and climate top Davos agenda\\n\\nClimate c...   \n",
       "2     Asian quake hits European shares\\n\\nShares in ...   \n",
       "3     India power shares jump on debut\\n\\nShares in ...   \n",
       "4     Lacroix label bought by US firm\\n\\nLuxury good...   \n",
       "...                                                 ...   \n",
       "2220  Warning over Windows Word files\\n\\nWriting a M...   \n",
       "2221  Fast lifts rise into record books\\n\\nTwo high-...   \n",
       "2222  Nintendo adds media playing to DS\\n\\nNintendo ...   \n",
       "2223  Fast moving phone viruses appear\\n\\nSecurity f...   \n",
       "2224  Hacker threat to Apple's iTunes\\n\\nUsers of Ap...   \n",
       "\n",
       "                                                Summary  Category  \\\n",
       "0     \"Despite some positive news for the export sec...  business   \n",
       "1     At the same time, about 100,000 people are exp...  business   \n",
       "2     The unfolding scale of the disaster in south A...  business   \n",
       "3     Shares in India's largest power producer, Nati...  business   \n",
       "4     LVMH said the French designer's haute couture ...  business   \n",
       "...                                                 ...       ...   \n",
       "2220  Writing a Microsoft Word document can be a dan...      tech   \n",
       "2221  The lifts take only 30 seconds to whisk passen...      tech   \n",
       "2222  Nintendo is releasing an adapter for its DS ha...      tech   \n",
       "2223  The new strains of the Cabir mobile phone viru...      tech   \n",
       "2224  Security firm iDefence, which notified users o...      tech   \n",
       "\n",
       "      articles_length  summaries_length  \n",
       "0                 324               129  \n",
       "1                 448               259  \n",
       "2                 546               253  \n",
       "3                 173                71  \n",
       "4                 150                47  \n",
       "...               ...               ...  \n",
       "2220              460               182  \n",
       "2221              384               205  \n",
       "2222              293               102  \n",
       "2223              331               138  \n",
       "2224              162                65  \n",
       "\n",
       "[2127 rows x 5 columns]"
      ]
     },
     "execution_count": 40,
     "metadata": {},
     "output_type": "execute_result"
    }
   ],
   "source": [
    "df"
   ]
  },
  {
   "cell_type": "code",
   "execution_count": 41,
   "id": "ea13fc46",
   "metadata": {},
   "outputs": [
    {
     "data": {
      "text/html": [
       "<div>\n",
       "<style scoped>\n",
       "    .dataframe tbody tr th:only-of-type {\n",
       "        vertical-align: middle;\n",
       "    }\n",
       "\n",
       "    .dataframe tbody tr th {\n",
       "        vertical-align: top;\n",
       "    }\n",
       "\n",
       "    .dataframe thead th {\n",
       "        text-align: right;\n",
       "    }\n",
       "</style>\n",
       "<table border=\"1\" class=\"dataframe\">\n",
       "  <thead>\n",
       "    <tr style=\"text-align: right;\">\n",
       "      <th></th>\n",
       "      <th>articles_length</th>\n",
       "      <th>summaries_length</th>\n",
       "    </tr>\n",
       "    <tr>\n",
       "      <th>Category</th>\n",
       "      <th></th>\n",
       "      <th></th>\n",
       "    </tr>\n",
       "  </thead>\n",
       "  <tbody>\n",
       "    <tr>\n",
       "      <th>business</th>\n",
       "      <td>328.675944</td>\n",
       "      <td>139.825050</td>\n",
       "    </tr>\n",
       "    <tr>\n",
       "      <th>entertainment</th>\n",
       "      <td>332.707317</td>\n",
       "      <td>145.027100</td>\n",
       "    </tr>\n",
       "    <tr>\n",
       "      <th>politics</th>\n",
       "      <td>456.220844</td>\n",
       "      <td>196.799007</td>\n",
       "    </tr>\n",
       "    <tr>\n",
       "      <th>sport</th>\n",
       "      <td>330.623762</td>\n",
       "      <td>143.782178</td>\n",
       "    </tr>\n",
       "    <tr>\n",
       "      <th>tech</th>\n",
       "      <td>513.236311</td>\n",
       "      <td>218.855908</td>\n",
       "    </tr>\n",
       "  </tbody>\n",
       "</table>\n",
       "</div>"
      ],
      "text/plain": [
       "               articles_length  summaries_length\n",
       "Category                                        \n",
       "business            328.675944        139.825050\n",
       "entertainment       332.707317        145.027100\n",
       "politics            456.220844        196.799007\n",
       "sport               330.623762        143.782178\n",
       "tech                513.236311        218.855908"
      ]
     },
     "execution_count": 41,
     "metadata": {},
     "output_type": "execute_result"
    }
   ],
   "source": [
    "category_length = df.groupby('Category',0).agg({'articles_length': 'mean', 'summaries_length': 'mean'})\n",
    "category_length"
   ]
  },
  {
   "cell_type": "code",
   "execution_count": 42,
   "id": "a6fddd09",
   "metadata": {},
   "outputs": [
    {
     "data": {
      "image/png": "[encoded data removed]",
      "text/plain": [
       "<Figure size 576x432 with 1 Axes>"
      ]
     },
     "metadata": {
      "needs_background": "light"
     },
     "output_type": "display_data"
    }
   ],
   "source": [
    "df_cp = pd.melt(category_length, ignore_index=False)\n",
    "plt.figure(figsize=(8,6))\n",
    "sns.barplot(x=df_cp.index, y=\"value\", hue='variable', data=df_cp)\n",
    "plt.show()"
   ]
  },
  {
   "cell_type": "code",
   "execution_count": 43,
   "id": "3b1609cb",
   "metadata": {},
   "outputs": [
    {
     "data": {
      "application/vnd.plotly.v1+json": {
       "config": {
        "plotlyServerURL": "https://plot.ly"
       },
       "data": [
        {
         "domain": {
          "x": [
           0,
           1
          ],
          "y": [
           0,
           1
          ]
         },
         "hovertemplate": "Category=%{label}<br>files_count=%{value}<extra></extra>",
         "labels": [
          "sport",
          "business",
          "politics",
          "entertainment",
          "tech"
         ],
         "legendgroup": "",
         "name": "",
         "showlegend": true,
         "type": "pie",
         "values": [
          505,
          503,
          403,
          369,
          347
         ]
        }
       ],
       "layout": {
        "legend": {
         "tracegroupgap": 0
        },
        "template": {
         "data": {
          "bar": [
           {
            "error_x": {
             "color": "#2a3f5f"
            },
            "error_y": {
             "color": "#2a3f5f"
            },
            "marker": {
             "line": {
              "color": "#E5ECF6",
              "width": 0.5
             },
             "pattern": {
              "fillmode": "overlay",
              "size": 10,
              "solidity": 0.2
             }
            },
            "type": "bar"
           }
          ],
          "barpolar": [
           {
            "marker": {
             "line": {
              "color": "#E5ECF6",
              "width": 0.5
             },
             "pattern": {
              "fillmode": "overlay",
              "size": 10,
              "solidity": 0.2
             }
            },
            "type": "barpolar"
           }
          ],
          "carpet": [
           {
            "aaxis": {
             "endlinecolor": "#2a3f5f",
             "gridcolor": "white",
             "linecolor": "white",
             "minorgridcolor": "white",
             "startlinecolor": "#2a3f5f"
            },
            "baxis": {
             "endlinecolor": "#2a3f5f",
             "gridcolor": "white",
             "linecolor": "white",
             "minorgridcolor": "white",
             "startlinecolor": "#2a3f5f"
            },
            "type": "carpet"
           }
          ],
          "choropleth": [
           {
            "colorbar": {
             "outlinewidth": 0,
             "ticks": ""
            },
            "type": "choropleth"
           }
          ],
          "contour": [
           {
            "colorbar": {
             "outlinewidth": 0,
             "ticks": ""
            },
            "colorscale": [
             [
              0,
              "#0d0887"
             ],
             [
              0.1111111111111111,
              "#46039f"
             ],
             [
              0.2222222222222222,
              "#7201a8"
             ],
             [
              0.3333333333333333,
              "#9c179e"
             ],
             [
              0.4444444444444444,
              "#bd3786"
             ],
             [
              0.5555555555555556,
              "#d8576b"
             ],
             [
              0.6666666666666666,
              "#ed7953"
             ],
             [
              0.7777777777777778,
              "#fb9f3a"
             ],
             [
              0.8888888888888888,
              "#fdca26"
             ],
             [
              1,
              "#f0f921"
             ]
            ],
            "type": "contour"
           }
          ],
          "contourcarpet": [
           {
            "colorbar": {
             "outlinewidth": 0,
             "ticks": ""
            },
            "type": "contourcarpet"
           }
          ],
          "heatmap": [
           {
            "colorbar": {
             "outlinewidth": 0,
             "ticks": ""
            },
            "colorscale": [
             [
              0,
              "#0d0887"
             ],
             [
              0.1111111111111111,
              "#46039f"
             ],
             [
              0.2222222222222222,
              "#7201a8"
             ],
             [
              0.3333333333333333,
              "#9c179e"
             ],
             [
              0.4444444444444444,
              "#bd3786"
             ],
             [
              0.5555555555555556,
              "#d8576b"
             ],
             [
              0.6666666666666666,
              "#ed7953"
             ],
             [
              0.7777777777777778,
              "#fb9f3a"
             ],
             [
              0.8888888888888888,
              "#fdca26"
             ],
             [
              1,
              "#f0f921"
             ]
            ],
            "type": "heatmap"
           }
          ],
          "heatmapgl": [
           {
            "colorbar": {
             "outlinewidth": 0,
             "ticks": ""
            },
            "colorscale": [
             [
              0,
              "#0d0887"
             ],
             [
              0.1111111111111111,
              "#46039f"
             ],
             [
              0.2222222222222222,
              "#7201a8"
             ],
             [
              0.3333333333333333,
              "#9c179e"
             ],
             [
              0.4444444444444444,
              "#bd3786"
             ],
             [
              0.5555555555555556,
              "#d8576b"
             ],
             [
              0.6666666666666666,
              "#ed7953"
             ],
             [
              0.7777777777777778,
              "#fb9f3a"
             ],
             [
              0.8888888888888888,
              "#fdca26"
             ],
             [
              1,
              "#f0f921"
             ]
            ],
            "type": "heatmapgl"
           }
          ],
          "histogram": [
           {
            "marker": {
             "pattern": {
              "fillmode": "overlay",
              "size": 10,
              "solidity": 0.2
             }
            },
            "type": "histogram"
           }
          ],
          "histogram2d": [
           {
            "colorbar": {
             "outlinewidth": 0,
             "ticks": ""
            },
            "colorscale": [
             [
              0,
              "#0d0887"
             ],
             [
              0.1111111111111111,
              "#46039f"
             ],
             [
              0.2222222222222222,
              "#7201a8"
             ],
             [
              0.3333333333333333,
              "#9c179e"
             ],
             [
              0.4444444444444444,
              "#bd3786"
             ],
             [
              0.5555555555555556,
              "#d8576b"
             ],
             [
              0.6666666666666666,
              "#ed7953"
             ],
             [
              0.7777777777777778,
              "#fb9f3a"
             ],
             [
              0.8888888888888888,
              "#fdca26"
             ],
             [
              1,
              "#f0f921"
             ]
            ],
            "type": "histogram2d"
           }
          ],
          "histogram2dcontour": [
           {
            "colorbar": {
             "outlinewidth": 0,
             "ticks": ""
            },
            "colorscale": [
             [
              0,
              "#0d0887"
             ],
             [
              0.1111111111111111,
              "#46039f"
             ],
             [
              0.2222222222222222,
              "#7201a8"
             ],
             [
              0.3333333333333333,
              "#9c179e"
             ],
             [
              0.4444444444444444,
              "#bd3786"
             ],
             [
              0.5555555555555556,
              "#d8576b"
             ],
             [
              0.6666666666666666,
              "#ed7953"
             ],
             [
              0.7777777777777778,
              "#fb9f3a"
             ],
             [
              0.8888888888888888,
              "#fdca26"
             ],
             [
              1,
              "#f0f921"
             ]
            ],
            "type": "histogram2dcontour"
           }
          ],
          "mesh3d": [
           {
            "colorbar": {
             "outlinewidth": 0,
             "ticks": ""
            },
            "type": "mesh3d"
           }
          ],
          "parcoords": [
           {
            "line": {
             "colorbar": {
              "outlinewidth": 0,
              "ticks": ""
             }
            },
            "type": "parcoords"
           }
          ],
          "pie": [
           {
            "automargin": true,
            "type": "pie"
           }
          ],
          "scatter": [
           {
            "marker": {
             "colorbar": {
              "outlinewidth": 0,
              "ticks": ""
             }
            },
            "type": "scatter"
           }
          ],
          "scatter3d": [
           {
            "line": {
             "colorbar": {
              "outlinewidth": 0,
              "ticks": ""
             }
            },
            "marker": {
             "colorbar": {
              "outlinewidth": 0,
              "ticks": ""
             }
            },
            "type": "scatter3d"
           }
          ],
          "scattercarpet": [
           {
            "marker": {
             "colorbar": {
              "outlinewidth": 0,
              "ticks": ""
             }
            },
            "type": "scattercarpet"
           }
          ],
          "scattergeo": [
           {
            "marker": {
             "colorbar": {
              "outlinewidth": 0,
              "ticks": ""
             }
            },
            "type": "scattergeo"
           }
          ],
          "scattergl": [
           {
            "marker": {
             "colorbar": {
              "outlinewidth": 0,
              "ticks": ""
             }
            },
            "type": "scattergl"
           }
          ],
          "scattermapbox": [
           {
            "marker": {
             "colorbar": {
              "outlinewidth": 0,
              "ticks": ""
             }
            },
            "type": "scattermapbox"
           }
          ],
          "scatterpolar": [
           {
            "marker": {
             "colorbar": {
              "outlinewidth": 0,
              "ticks": ""
             }
            },
            "type": "scatterpolar"
           }
          ],
          "scatterpolargl": [
           {
            "marker": {
             "colorbar": {
              "outlinewidth": 0,
              "ticks": ""
             }
            },
            "type": "scatterpolargl"
           }
          ],
          "scatterternary": [
           {
            "marker": {
             "colorbar": {
              "outlinewidth": 0,
              "ticks": ""
             }
            },
            "type": "scatterternary"
           }
          ],
          "surface": [
           {
            "colorbar": {
             "outlinewidth": 0,
             "ticks": ""
            },
            "colorscale": [
             [
              0,
              "#0d0887"
             ],
             [
              0.1111111111111111,
              "#46039f"
             ],
             [
              0.2222222222222222,
              "#7201a8"
             ],
             [
              0.3333333333333333,
              "#9c179e"
             ],
             [
              0.4444444444444444,
              "#bd3786"
             ],
             [
              0.5555555555555556,
              "#d8576b"
             ],
             [
              0.6666666666666666,
              "#ed7953"
             ],
             [
              0.7777777777777778,
              "#fb9f3a"
             ],
             [
              0.8888888888888888,
              "#fdca26"
             ],
             [
              1,
              "#f0f921"
             ]
            ],
            "type": "surface"
           }
          ],
          "table": [
           {
            "cells": {
             "fill": {
              "color": "#EBF0F8"
             },
             "line": {
              "color": "white"
             }
            },
            "header": {
             "fill": {
              "color": "#C8D4E3"
             },
             "line": {
              "color": "white"
             }
            },
            "type": "table"
           }
          ]
         },
         "layout": {
          "annotationdefaults": {
           "arrowcolor": "#2a3f5f",
           "arrowhead": 0,
           "arrowwidth": 1
          },
          "autotypenumbers": "strict",
          "coloraxis": {
           "colorbar": {
            "outlinewidth": 0,
            "ticks": ""
           }
          },
          "colorscale": {
           "diverging": [
            [
             0,
             "#8e0152"
            ],
            [
             0.1,
             "#c51b7d"
            ],
            [
             0.2,
             "#de77ae"
            ],
            [
             0.3,
             "#f1b6da"
            ],
            [
             0.4,
             "#fde0ef"
            ],
            [
             0.5,
             "#f7f7f7"
            ],
            [
             0.6,
             "#e6f5d0"
            ],
            [
             0.7,
             "#b8e186"
            ],
            [
             0.8,
             "#7fbc41"
            ],
            [
             0.9,
             "#4d9221"
            ],
            [
             1,
             "#276419"
            ]
           ],
           "sequential": [
            [
             0,
             "#0d0887"
            ],
            [
             0.1111111111111111,
             "#46039f"
            ],
            [
             0.2222222222222222,
             "#7201a8"
            ],
            [
             0.3333333333333333,
             "#9c179e"
            ],
            [
             0.4444444444444444,
             "#bd3786"
            ],
            [
             0.5555555555555556,
             "#d8576b"
            ],
            [
             0.6666666666666666,
             "#ed7953"
            ],
            [
             0.7777777777777778,
             "#fb9f3a"
            ],
            [
             0.8888888888888888,
             "#fdca26"
            ],
            [
             1,
             "#f0f921"
            ]
           ],
           "sequentialminus": [
            [
             0,
             "#0d0887"
            ],
            [
             0.1111111111111111,
             "#46039f"
            ],
            [
             0.2222222222222222,
             "#7201a8"
            ],
            [
             0.3333333333333333,
             "#9c179e"
            ],
            [
             0.4444444444444444,
             "#bd3786"
            ],
            [
             0.5555555555555556,
             "#d8576b"
            ],
            [
             0.6666666666666666,
             "#ed7953"
            ],
            [
             0.7777777777777778,
             "#fb9f3a"
            ],
            [
             0.8888888888888888,
             "#fdca26"
            ],
            [
             1,
             "#f0f921"
            ]
           ]
          },
          "colorway": [
           "#636efa",
           "#EF553B",
           "#00cc96",
           "#ab63fa",
           "#FFA15A",
           "#19d3f3",
           "#FF6692",
           "#B6E880",
           "#FF97FF",
           "#FECB52"
          ],
          "font": {
           "color": "#2a3f5f"
          },
          "geo": {
           "bgcolor": "white",
           "lakecolor": "white",
           "landcolor": "#E5ECF6",
           "showlakes": true,
           "showland": true,
           "subunitcolor": "white"
          },
          "hoverlabel": {
           "align": "left"
          },
          "hovermode": "closest",
          "mapbox": {
           "style": "light"
          },
          "paper_bgcolor": "white",
          "plot_bgcolor": "#E5ECF6",
          "polar": {
           "angularaxis": {
            "gridcolor": "white",
            "linecolor": "white",
            "ticks": ""
           },
           "bgcolor": "#E5ECF6",
           "radialaxis": {
            "gridcolor": "white",
            "linecolor": "white",
            "ticks": ""
           }
          },
          "scene": {
           "xaxis": {
            "backgroundcolor": "#E5ECF6",
            "gridcolor": "white",
            "gridwidth": 2,
            "linecolor": "white",
            "showbackground": true,
            "ticks": "",
            "zerolinecolor": "white"
           },
           "yaxis": {
            "backgroundcolor": "#E5ECF6",
            "gridcolor": "white",
            "gridwidth": 2,
            "linecolor": "white",
            "showbackground": true,
            "ticks": "",
            "zerolinecolor": "white"
           },
           "zaxis": {
            "backgroundcolor": "#E5ECF6",
            "gridcolor": "white",
            "gridwidth": 2,
            "linecolor": "white",
            "showbackground": true,
            "ticks": "",
            "zerolinecolor": "white"
           }
          },
          "shapedefaults": {
           "line": {
            "color": "#2a3f5f"
           }
          },
          "ternary": {
           "aaxis": {
            "gridcolor": "white",
            "linecolor": "white",
            "ticks": ""
           },
           "baxis": {
            "gridcolor": "white",
            "linecolor": "white",
            "ticks": ""
           },
           "bgcolor": "#E5ECF6",
           "caxis": {
            "gridcolor": "white",
            "linecolor": "white",
            "ticks": ""
           }
          },
          "title": {
           "x": 0.05
          },
          "xaxis": {
           "automargin": true,
           "gridcolor": "white",
           "linecolor": "white",
           "ticks": "",
           "title": {
            "standoff": 15
           },
           "zerolinecolor": "white",
           "zerolinewidth": 2
          },
          "yaxis": {
           "automargin": true,
           "gridcolor": "white",
           "linecolor": "white",
           "ticks": "",
           "title": {
            "standoff": 15
           },
           "zerolinecolor": "white",
           "zerolinewidth": 2
          }
         }
        },
        "title": {
         "text": "Categories Ratio"
        }
       }
      },
      "text/html": [
       "<div>                            <div id=\"10e8c6fb-c4d2-4e86-92d4-00702d6c89a6\" class=\"plotly-graph-div\" style=\"height:525px; width:100%;\"></div>            <script type=\"text/javascript\">                require([\"plotly\"], function(Plotly) {                    window.PLOTLYENV=window.PLOTLYENV || {};                                    if (document.getElementById(\"10e8c6fb-c4d2-4e86-92d4-00702d6c89a6\")) {                    Plotly.newPlot(                        \"10e8c6fb-c4d2-4e86-92d4-00702d6c89a6\",                        [{\"domain\":{\"x\":[0.0,1.0],\"y\":[0.0,1.0]},\"hovertemplate\":\"Category=%{label}<br>files_count=%{value}<extra></extra>\",\"labels\":[\"sport\",\"business\",\"politics\",\"entertainment\",\"tech\"],\"legendgroup\":\"\",\"name\":\"\",\"showlegend\":true,\"values\":[505,503,403,369,347],\"type\":\"pie\"}],                        {\"template\":{\"data\":{\"bar\":[{\"error_x\":{\"color\":\"#2a3f5f\"},\"error_y\":{\"color\":\"#2a3f5f\"},\"marker\":{\"line\":{\"color\":\"#E5ECF6\",\"width\":0.5},\"pattern\":{\"fillmode\":\"overlay\",\"size\":10,\"solidity\":0.2}},\"type\":\"bar\"}],\"barpolar\":[{\"marker\":{\"line\":{\"color\":\"#E5ECF6\",\"width\":0.5},\"pattern\":{\"fillmode\":\"overlay\",\"size\":10,\"solidity\":0.2}},\"type\":\"barpolar\"}],\"carpet\":[{\"aaxis\":{\"endlinecolor\":\"#2a3f5f\",\"gridcolor\":\"white\",\"linecolor\":\"white\",\"minorgridcolor\":\"white\",\"startlinecolor\":\"#2a3f5f\"},\"baxis\":{\"endlinecolor\":\"#2a3f5f\",\"gridcolor\":\"white\",\"linecolor\":\"white\",\"minorgridcolor\":\"white\",\"startlinecolor\":\"#2a3f5f\"},\"type\":\"carpet\"}],\"choropleth\":[{\"colorbar\":{\"outlinewidth\":0,\"ticks\":\"\"},\"type\":\"choropleth\"}],\"contour\":[{\"colorbar\":{\"outlinewidth\":0,\"ticks\":\"\"},\"colorscale\":[[0.0,\"#0d0887\"],[0.1111111111111111,\"#46039f\"],[0.2222222222222222,\"#7201a8\"],[0.3333333333333333,\"#9c179e\"],[0.4444444444444444,\"#bd3786\"],[0.5555555555555556,\"#d8576b\"],[0.6666666666666666,\"#ed7953\"],[0.7777777777777778,\"#fb9f3a\"],[0.8888888888888888,\"#fdca26\"],[1.0,\"#f0f921\"]],\"type\":\"contour\"}],\"contourcarpet\":[{\"colorbar\":{\"outlinewidth\":0,\"ticks\":\"\"},\"type\":\"contourcarpet\"}],\"heatmap\":[{\"colorbar\":{\"outlinewidth\":0,\"ticks\":\"\"},\"colorscale\":[[0.0,\"#0d0887\"],[0.1111111111111111,\"#46039f\"],[0.2222222222222222,\"#7201a8\"],[0.3333333333333333,\"#9c179e\"],[0.4444444444444444,\"#bd3786\"],[0.5555555555555556,\"#d8576b\"],[0.6666666666666666,\"#ed7953\"],[0.7777777777777778,\"#fb9f3a\"],[0.8888888888888888,\"#fdca26\"],[1.0,\"#f0f921\"]],\"type\":\"heatmap\"}],\"heatmapgl\":[{\"colorbar\":{\"outlinewidth\":0,\"ticks\":\"\"},\"colorscale\":[[0.0,\"#0d0887\"],[0.1111111111111111,\"#46039f\"],[0.2222222222222222,\"#7201a8\"],[0.3333333333333333,\"#9c179e\"],[0.4444444444444444,\"#bd3786\"],[0.5555555555555556,\"#d8576b\"],[0.6666666666666666,\"#ed7953\"],[0.7777777777777778,\"#fb9f3a\"],[0.8888888888888888,\"#fdca26\"],[1.0,\"#f0f921\"]],\"type\":\"heatmapgl\"}],\"histogram\":[{\"marker\":{\"pattern\":{\"fillmode\":\"overlay\",\"size\":10,\"solidity\":0.2}},\"type\":\"histogram\"}],\"histogram2d\":[{\"colorbar\":{\"outlinewidth\":0,\"ticks\":\"\"},\"colorscale\":[[0.0,\"#0d0887\"],[0.1111111111111111,\"#46039f\"],[0.2222222222222222,\"#7201a8\"],[0.3333333333333333,\"#9c179e\"],[0.4444444444444444,\"#bd3786\"],[0.5555555555555556,\"#d8576b\"],[0.6666666666666666,\"#ed7953\"],[0.7777777777777778,\"#fb9f3a\"],[0.8888888888888888,\"#fdca26\"],[1.0,\"#f0f921\"]],\"type\":\"histogram2d\"}],\"histogram2dcontour\":[{\"colorbar\":{\"outlinewidth\":0,\"ticks\":\"\"},\"colorscale\":[[0.0,\"#0d0887\"],[0.1111111111111111,\"#46039f\"],[0.2222222222222222,\"#7201a8\"],[0.3333333333333333,\"#9c179e\"],[0.4444444444444444,\"#bd3786\"],[0.5555555555555556,\"#d8576b\"],[0.6666666666666666,\"#ed7953\"],[0.7777777777777778,\"#fb9f3a\"],[0.8888888888888888,\"#fdca26\"],[1.0,\"#f0f921\"]],\"type\":\"histogram2dcontour\"}],\"mesh3d\":[{\"colorbar\":{\"outlinewidth\":0,\"ticks\":\"\"},\"type\":\"mesh3d\"}],\"parcoords\":[{\"line\":{\"colorbar\":{\"outlinewidth\":0,\"ticks\":\"\"}},\"type\":\"parcoords\"}],\"pie\":[{\"automargin\":true,\"type\":\"pie\"}],\"scatter\":[{\"marker\":{\"colorbar\":{\"outlinewidth\":0,\"ticks\":\"\"}},\"type\":\"scatter\"}],\"scatter3d\":[{\"line\":{\"colorbar\":{\"outlinewidth\":0,\"ticks\":\"\"}},\"marker\":{\"colorbar\":{\"outlinewidth\":0,\"ticks\":\"\"}},\"type\":\"scatter3d\"}],\"scattercarpet\":[{\"marker\":{\"colorbar\":{\"outlinewidth\":0,\"ticks\":\"\"}},\"type\":\"scattercarpet\"}],\"scattergeo\":[{\"marker\":{\"colorbar\":{\"outlinewidth\":0,\"ticks\":\"\"}},\"type\":\"scattergeo\"}],\"scattergl\":[{\"marker\":{\"colorbar\":{\"outlinewidth\":0,\"ticks\":\"\"}},\"type\":\"scattergl\"}],\"scattermapbox\":[{\"marker\":{\"colorbar\":{\"outlinewidth\":0,\"ticks\":\"\"}},\"type\":\"scattermapbox\"}],\"scatterpolar\":[{\"marker\":{\"colorbar\":{\"outlinewidth\":0,\"ticks\":\"\"}},\"type\":\"scatterpolar\"}],\"scatterpolargl\":[{\"marker\":{\"colorbar\":{\"outlinewidth\":0,\"ticks\":\"\"}},\"type\":\"scatterpolargl\"}],\"scatterternary\":[{\"marker\":{\"colorbar\":{\"outlinewidth\":0,\"ticks\":\"\"}},\"type\":\"scatterternary\"}],\"surface\":[{\"colorbar\":{\"outlinewidth\":0,\"ticks\":\"\"},\"colorscale\":[[0.0,\"#0d0887\"],[0.1111111111111111,\"#46039f\"],[0.2222222222222222,\"#7201a8\"],[0.3333333333333333,\"#9c179e\"],[0.4444444444444444,\"#bd3786\"],[0.5555555555555556,\"#d8576b\"],[0.6666666666666666,\"#ed7953\"],[0.7777777777777778,\"#fb9f3a\"],[0.8888888888888888,\"#fdca26\"],[1.0,\"#f0f921\"]],\"type\":\"surface\"}],\"table\":[{\"cells\":{\"fill\":{\"color\":\"#EBF0F8\"},\"line\":{\"color\":\"white\"}},\"header\":{\"fill\":{\"color\":\"#C8D4E3\"},\"line\":{\"color\":\"white\"}},\"type\":\"table\"}]},\"layout\":{\"annotationdefaults\":{\"arrowcolor\":\"#2a3f5f\",\"arrowhead\":0,\"arrowwidth\":1},\"autotypenumbers\":\"strict\",\"coloraxis\":{\"colorbar\":{\"outlinewidth\":0,\"ticks\":\"\"}},\"colorscale\":{\"diverging\":[[0,\"#8e0152\"],[0.1,\"#c51b7d\"],[0.2,\"#de77ae\"],[0.3,\"#f1b6da\"],[0.4,\"#fde0ef\"],[0.5,\"#f7f7f7\"],[0.6,\"#e6f5d0\"],[0.7,\"#b8e186\"],[0.8,\"#7fbc41\"],[0.9,\"#4d9221\"],[1,\"#276419\"]],\"sequential\":[[0.0,\"#0d0887\"],[0.1111111111111111,\"#46039f\"],[0.2222222222222222,\"#7201a8\"],[0.3333333333333333,\"#9c179e\"],[0.4444444444444444,\"#bd3786\"],[0.5555555555555556,\"#d8576b\"],[0.6666666666666666,\"#ed7953\"],[0.7777777777777778,\"#fb9f3a\"],[0.8888888888888888,\"#fdca26\"],[1.0,\"#f0f921\"]],\"sequentialminus\":[[0.0,\"#0d0887\"],[0.1111111111111111,\"#46039f\"],[0.2222222222222222,\"#7201a8\"],[0.3333333333333333,\"#9c179e\"],[0.4444444444444444,\"#bd3786\"],[0.5555555555555556,\"#d8576b\"],[0.6666666666666666,\"#ed7953\"],[0.7777777777777778,\"#fb9f3a\"],[0.8888888888888888,\"#fdca26\"],[1.0,\"#f0f921\"]]},\"colorway\":[\"#636efa\",\"#EF553B\",\"#00cc96\",\"#ab63fa\",\"#FFA15A\",\"#19d3f3\",\"#FF6692\",\"#B6E880\",\"#FF97FF\",\"#FECB52\"],\"font\":{\"color\":\"#2a3f5f\"},\"geo\":{\"bgcolor\":\"white\",\"lakecolor\":\"white\",\"landcolor\":\"#E5ECF6\",\"showlakes\":true,\"showland\":true,\"subunitcolor\":\"white\"},\"hoverlabel\":{\"align\":\"left\"},\"hovermode\":\"closest\",\"mapbox\":{\"style\":\"light\"},\"paper_bgcolor\":\"white\",\"plot_bgcolor\":\"#E5ECF6\",\"polar\":{\"angularaxis\":{\"gridcolor\":\"white\",\"linecolor\":\"white\",\"ticks\":\"\"},\"bgcolor\":\"#E5ECF6\",\"radialaxis\":{\"gridcolor\":\"white\",\"linecolor\":\"white\",\"ticks\":\"\"}},\"scene\":{\"xaxis\":{\"backgroundcolor\":\"#E5ECF6\",\"gridcolor\":\"white\",\"gridwidth\":2,\"linecolor\":\"white\",\"showbackground\":true,\"ticks\":\"\",\"zerolinecolor\":\"white\"},\"yaxis\":{\"backgroundcolor\":\"#E5ECF6\",\"gridcolor\":\"white\",\"gridwidth\":2,\"linecolor\":\"white\",\"showbackground\":true,\"ticks\":\"\",\"zerolinecolor\":\"white\"},\"zaxis\":{\"backgroundcolor\":\"#E5ECF6\",\"gridcolor\":\"white\",\"gridwidth\":2,\"linecolor\":\"white\",\"showbackground\":true,\"ticks\":\"\",\"zerolinecolor\":\"white\"}},\"shapedefaults\":{\"line\":{\"color\":\"#2a3f5f\"}},\"ternary\":{\"aaxis\":{\"gridcolor\":\"white\",\"linecolor\":\"white\",\"ticks\":\"\"},\"baxis\":{\"gridcolor\":\"white\",\"linecolor\":\"white\",\"ticks\":\"\"},\"bgcolor\":\"#E5ECF6\",\"caxis\":{\"gridcolor\":\"white\",\"linecolor\":\"white\",\"ticks\":\"\"}},\"title\":{\"x\":0.05},\"xaxis\":{\"automargin\":true,\"gridcolor\":\"white\",\"linecolor\":\"white\",\"ticks\":\"\",\"title\":{\"standoff\":15},\"zerolinecolor\":\"white\",\"zerolinewidth\":2},\"yaxis\":{\"automargin\":true,\"gridcolor\":\"white\",\"linecolor\":\"white\",\"ticks\":\"\",\"title\":{\"standoff\":15},\"zerolinecolor\":\"white\",\"zerolinewidth\":2}}},\"legend\":{\"tracegroupgap\":0},\"title\":{\"text\":\"Categories Ratio\"}},                        {\"responsive\": true}                    ).then(function(){\n",
       "                            \n",
       "var gd = document.getElementById('10e8c6fb-c4d2-4e86-92d4-00702d6c89a6');\n",
       "var x = new MutationObserver(function (mutations, observer) {{\n",
       "        var display = window.getComputedStyle(gd).display;\n",
       "        if (!display || display === 'none') {{\n",
       "            console.log([gd, 'removed!']);\n",
       "            Plotly.purge(gd);\n",
       "            observer.disconnect();\n",
       "        }}\n",
       "}});\n",
       "\n",
       "// Listen for the removal of the full notebook cells\n",
       "var notebookContainer = gd.closest('#notebook-container');\n",
       "if (notebookContainer) {{\n",
       "    x.observe(notebookContainer, {childList: true});\n",
       "}}\n",
       "\n",
       "// Listen for the clearing of the current output cell\n",
       "var outputEl = gd.closest('.output');\n",
       "if (outputEl) {{\n",
       "    x.observe(outputEl, {childList: true});\n",
       "}}\n",
       "\n",
       "                        })                };                });            </script>        </div>"
      ]
     },
     "metadata": {},
     "output_type": "display_data"
    }
   ],
   "source": [
    "tmp_df = pd.DataFrame({'Category': df['Category'].value_counts().index, 'files_count': df['Category'].value_counts().values})\n",
    "fig = px.pie(tmp_df, values='files_count', names='Category', title=f\"Categories Ratio\")\n",
    "fig.show()"
   ]
  },
  {
   "cell_type": "code",
   "execution_count": 44,
   "id": "787bfc08",
   "metadata": {},
   "outputs": [
    {
     "data": {
      "image/png": "[encoded data removed]",
      "text/plain": [
       "<Figure size 720x432 with 1 Axes>"
      ]
     },
     "metadata": {
      "needs_background": "light"
     },
     "output_type": "display_data"
    }
   ],
   "source": [
    "# Distribution of article length\n",
    "df['article_len'] = df['Article'].apply(lambda x: len(x.split()))\n",
    "plt.figure(figsize=(10, 6))\n",
    "sns.histplot(data=df, x='article_len', bins=30)\n",
    "plt.title('Distribution of Article Lengths in BBC News')\n",
    "plt.xlabel(\"Number of Words\")\n",
    "plt.ylabel(\"Frequency\")\n",
    "plt.show()"
   ]
  },
  {
   "cell_type": "code",
   "execution_count": 45,
   "id": "eca26297",
   "metadata": {},
   "outputs": [
    {
     "data": {
      "image/png": "[encoded data removed]",
      "text/plain": [
       "<Figure size 720x432 with 1 Axes>"
      ]
     },
     "metadata": {
      "needs_background": "light"
     },
     "output_type": "display_data"
    }
   ],
   "source": [
    "# Distribution of summary length\n",
    "df['summary_len'] = df['Summary'].apply(lambda x: len(x.split()))\n",
    "plt.figure(figsize=(10, 6))\n",
    "sns.violinplot(data=df, x='summary_len')\n",
    "plt.title(\"Violin Plot of Summary Lengths in BBC News\")\n",
    "plt.xlabel(\"Number of Words\")\n",
    "plt.show()"
   ]
  },
  {
   "cell_type": "markdown",
   "id": "28954ff6",
   "metadata": {},
   "source": [
    "### Data Pre-processing for BBC News Dataset"
   ]
  },
  {
   "cell_type": "code",
   "execution_count": 49,
   "id": "41a53db4",
   "metadata": {},
   "outputs": [
    {
     "name": "stdout",
     "output_type": "stream",
     "text": [
      "(2225, 2)\n",
      "(2127, 2)\n"
     ]
    }
   ],
   "source": [
    "df = data[['Article', 'Summary']].copy() # Create a copy of the relevant columns (Article and Summary)\n",
    "print(df.shape)\n",
    "df.drop_duplicates(inplace=True)\n",
    "df.dropna(axis=0,inplace=True)\n",
    "print(df.shape)"
   ]
  },
  {
   "cell_type": "markdown",
   "id": "3445e24c",
   "metadata": {},
   "source": [
    "#### Data Cleaning (Lowercasing, Removing Contractions, Punctuations, Special Characters, Numbers & Stop Words)"
   ]
  },
  {
   "cell_type": "code",
   "execution_count": 50,
   "id": "0e6e7218",
   "metadata": {},
   "outputs": [],
   "source": [
    "clean_texts = []\n",
    "\n",
    "# clean articles\n",
    "for t in df[\"Article\"]:\n",
    "    clean_texts.append(text_cleaner(t, 0)) # 0 to remove the stop words and get rid of unnecessary words\n",
    "\n",
    "# clean summaries\n",
    "clean_summaries = []\n",
    "\n",
    "for s in df[\"Summary\"]:\n",
    "    clean_summaries.append(text_cleaner(s, 1)) #1 to retain most of the summarized text\n",
    "\n",
    "# create new dataframe for the cleaned texts and summaries \n",
    "dataframe = pd.DataFrame(columns=[\"text\", \"summary\"])\n",
    "\n",
    "# put cleaned version of texts and summaries into the dataframe\n",
    "dataframe[\"text\"] = clean_texts\n",
    "dataframe[\"summary\"] = clean_summaries"
   ]
  },
  {
   "cell_type": "code",
   "execution_count": 51,
   "id": "a93c2f12",
   "metadata": {},
   "outputs": [
    {
     "data": {
      "text/html": [
       "<div>\n",
       "<style scoped>\n",
       "    .dataframe tbody tr th:only-of-type {\n",
       "        vertical-align: middle;\n",
       "    }\n",
       "\n",
       "    .dataframe tbody tr th {\n",
       "        vertical-align: top;\n",
       "    }\n",
       "\n",
       "    .dataframe thead th {\n",
       "        text-align: right;\n",
       "    }\n",
       "</style>\n",
       "<table border=\"1\" class=\"dataframe\">\n",
       "  <thead>\n",
       "    <tr style=\"text-align: right;\">\n",
       "      <th></th>\n",
       "      <th>text</th>\n",
       "      <th>summary</th>\n",
       "    </tr>\n",
       "  </thead>\n",
       "  <tbody>\n",
       "    <tr>\n",
       "      <th>0</th>\n",
       "      <td>uk economy facing major risks uk manufacturing...</td>\n",
       "      <td>despite some positive news for the export sect...</td>\n",
       "    </tr>\n",
       "    <tr>\n",
       "      <th>1</th>\n",
       "      <td>aids climate davos agenda climate change fight...</td>\n",
       "      <td>at the same time about people are expected to ...</td>\n",
       "    </tr>\n",
       "    <tr>\n",
       "      <th>2</th>\n",
       "      <td>asian quake hits european shares shares europe...</td>\n",
       "      <td>the unfolding scale of the disaster in south a...</td>\n",
       "    </tr>\n",
       "    <tr>\n",
       "      <th>3</th>\n",
       "      <td>india power shares jump debut shares india lar...</td>\n",
       "      <td>shares in india largest power producer nationa...</td>\n",
       "    </tr>\n",
       "    <tr>\n",
       "      <th>4</th>\n",
       "      <td>lacroix label bought firm luxury goods group l...</td>\n",
       "      <td>lvmh said the french designer haute couture an...</td>\n",
       "    </tr>\n",
       "  </tbody>\n",
       "</table>\n",
       "</div>"
      ],
      "text/plain": [
       "                                                text  \\\n",
       "0  uk economy facing major risks uk manufacturing...   \n",
       "1  aids climate davos agenda climate change fight...   \n",
       "2  asian quake hits european shares shares europe...   \n",
       "3  india power shares jump debut shares india lar...   \n",
       "4  lacroix label bought firm luxury goods group l...   \n",
       "\n",
       "                                             summary  \n",
       "0  despite some positive news for the export sect...  \n",
       "1  at the same time about people are expected to ...  \n",
       "2  the unfolding scale of the disaster in south a...  \n",
       "3  shares in india largest power producer nationa...  \n",
       "4  lvmh said the french designer haute couture an...  "
      ]
     },
     "execution_count": 51,
     "metadata": {},
     "output_type": "execute_result"
    }
   ],
   "source": [
    "dataframe.head()"
   ]
  },
  {
   "cell_type": "code",
   "execution_count": 52,
   "id": "94c168f8",
   "metadata": {},
   "outputs": [],
   "source": [
    "dataframe.replace('', np.nan, inplace=True)\n",
    "dataframe.dropna(axis=0,inplace=True)"
   ]
  },
  {
   "cell_type": "markdown",
   "id": "0b84c761",
   "metadata": {},
   "source": [
    "#### Removing outliers"
   ]
  },
  {
   "cell_type": "code",
   "execution_count": 53,
   "id": "638a08b6",
   "metadata": {},
   "outputs": [
    {
     "name": "stdout",
     "output_type": "stream",
     "text": [
      "90% of the texts are below this length: 313\n",
      "90% of the summaries are below this length: 269\n"
     ]
    }
   ],
   "source": [
    "length_percentile = text_length_percentile(dataframe, 'text', percentile)\n",
    "print(f\"{percentile}% of the texts are below this length: {length_percentile}\")\n",
    "\n",
    "length_percentile = text_length_percentile(dataframe, 'summary', percentile)\n",
    "print(f\"{percentile}% of the summaries are below this length: {length_percentile}\")\n"
   ]
  },
  {
   "cell_type": "code",
   "execution_count": 54,
   "id": "88f844f2",
   "metadata": {},
   "outputs": [],
   "source": [
    "MAX_TEXT_LENGTH = 313\n",
    "MAX_SUMMARY_LENGTH = 269"
   ]
  },
  {
   "cell_type": "code",
   "execution_count": 55,
   "id": "f80f66e8",
   "metadata": {},
   "outputs": [],
   "source": [
    "clean_text = np.array(dataframe[\"text\"])\n",
    "clean_summary = np.array(dataframe[\"summary\"])\n",
    "\n",
    "# define lists for short text and short summaries\n",
    "short_text = []\n",
    "short_summary = []\n",
    "\n",
    "# clean outliers\n",
    "for i in range(len(clean_text)):\n",
    "    if(len(clean_summary[i].split()) <= MAX_SUMMARY_LENGTH and len(clean_text[i].split()) <= MAX_TEXT_LENGTH):\n",
    "        short_text.append(clean_text[i])\n",
    "        short_summary.append(clean_summary[i])\n",
    "\n",
    "# change the dataframe\n",
    "last_dataframe = pd.DataFrame({\"source_text\":short_text, \"target_text\":short_summary})"
   ]
  },
  {
   "cell_type": "code",
   "execution_count": 56,
   "id": "1b7278e1",
   "metadata": {},
   "outputs": [
    {
     "data": {
      "image/png": "[encoded data removed]",
      "text/plain": [
       "<Figure size 720x432 with 1 Axes>"
      ]
     },
     "metadata": {
      "needs_background": "light"
     },
     "output_type": "display_data"
    }
   ],
   "source": [
    "# Distribution of article length after removing outliers\n",
    "last_dataframe['article_len'] = last_dataframe['source_text'].apply(lambda x: len(x.split()))\n",
    "plt.figure(figsize=(10, 6))\n",
    "sns.histplot(data=last_dataframe, x='article_len', bins=30)\n",
    "plt.title('Distribution of Article Lengths in BBC News')\n",
    "plt.xlabel(\"Number of Words\")\n",
    "plt.ylabel(\"Frequency\")\n",
    "plt.show()"
   ]
  },
  {
   "cell_type": "code",
   "execution_count": 57,
   "id": "1ffe006e",
   "metadata": {},
   "outputs": [
    {
     "data": {
      "image/png": "[encoded data removed]",
      "text/plain": [
       "<Figure size 720x432 with 1 Axes>"
      ]
     },
     "metadata": {
      "needs_background": "light"
     },
     "output_type": "display_data"
    }
   ],
   "source": [
    "# Distribution of summary length\n",
    "last_dataframe['summary_len'] = last_dataframe['target_text'].apply(lambda x: len(x.split()))\n",
    "plt.figure(figsize=(10, 6))\n",
    "sns.violinplot(data=last_dataframe, x='summary_len')\n",
    "plt.title(\"Violin Plot of Summary Lengths in BBC News\")\n",
    "plt.xlabel(\"Number of Words\")\n",
    "plt.show()"
   ]
  },
  {
   "cell_type": "code",
   "execution_count": 52,
   "id": "f69ba7f7",
   "metadata": {},
   "outputs": [
    {
     "data": {
      "text/html": [
       "<div>\n",
       "<style scoped>\n",
       "    .dataframe tbody tr th:only-of-type {\n",
       "        vertical-align: middle;\n",
       "    }\n",
       "\n",
       "    .dataframe tbody tr th {\n",
       "        vertical-align: top;\n",
       "    }\n",
       "\n",
       "    .dataframe thead th {\n",
       "        text-align: right;\n",
       "    }\n",
       "</style>\n",
       "<table border=\"1\" class=\"dataframe\">\n",
       "  <thead>\n",
       "    <tr style=\"text-align: right;\">\n",
       "      <th></th>\n",
       "      <th>source_text</th>\n",
       "      <th>target_text</th>\n",
       "      <th>article_len</th>\n",
       "    </tr>\n",
       "  </thead>\n",
       "  <tbody>\n",
       "    <tr>\n",
       "      <th>0</th>\n",
       "      <td>uk economy facing major risks uk manufacturing...</td>\n",
       "      <td>despite some positive news for the export sect...</td>\n",
       "      <td>171</td>\n",
       "    </tr>\n",
       "    <tr>\n",
       "      <th>1</th>\n",
       "      <td>aids climate davos agenda climate change fight...</td>\n",
       "      <td>at the same time about people are expected to ...</td>\n",
       "      <td>233</td>\n",
       "    </tr>\n",
       "    <tr>\n",
       "      <th>2</th>\n",
       "      <td>asian quake hits european shares shares europe...</td>\n",
       "      <td>the unfolding scale of the disaster in south a...</td>\n",
       "      <td>304</td>\n",
       "    </tr>\n",
       "    <tr>\n",
       "      <th>3</th>\n",
       "      <td>india power shares jump debut shares india lar...</td>\n",
       "      <td>shares in india largest power producer nationa...</td>\n",
       "      <td>105</td>\n",
       "    </tr>\n",
       "    <tr>\n",
       "      <th>4</th>\n",
       "      <td>lacroix label bought firm luxury goods group l...</td>\n",
       "      <td>lvmh said the french designer haute couture an...</td>\n",
       "      <td>91</td>\n",
       "    </tr>\n",
       "    <tr>\n",
       "      <th>...</th>\n",
       "      <td>...</td>\n",
       "      <td>...</td>\n",
       "      <td>...</td>\n",
       "    </tr>\n",
       "    <tr>\n",
       "      <th>1868</th>\n",
       "      <td>warning windows word files writing microsoft w...</td>\n",
       "      <td>writing microsoft word document can be dangero...</td>\n",
       "      <td>248</td>\n",
       "    </tr>\n",
       "    <tr>\n",
       "      <th>1869</th>\n",
       "      <td>fast lifts rise record books high speed lifts ...</td>\n",
       "      <td>the lifts take only seconds to whisk passenger...</td>\n",
       "      <td>196</td>\n",
       "    </tr>\n",
       "    <tr>\n",
       "      <th>1870</th>\n",
       "      <td>nintendo adds media playing ds nintendo releas...</td>\n",
       "      <td>nintendo is releasing an adapter for its ds ha...</td>\n",
       "      <td>152</td>\n",
       "    </tr>\n",
       "    <tr>\n",
       "      <th>1871</th>\n",
       "      <td>fast moving phone viruses appear security firm...</td>\n",
       "      <td>the new strains of the cabir mobile phone viru...</td>\n",
       "      <td>180</td>\n",
       "    </tr>\n",
       "    <tr>\n",
       "      <th>1872</th>\n",
       "      <td>hacker threat apple itunes users apple music j...</td>\n",
       "      <td>security firm idefence which notified users of...</td>\n",
       "      <td>93</td>\n",
       "    </tr>\n",
       "  </tbody>\n",
       "</table>\n",
       "<p>1873 rows × 3 columns</p>\n",
       "</div>"
      ],
      "text/plain": [
       "                                            source_text  \\\n",
       "0     uk economy facing major risks uk manufacturing...   \n",
       "1     aids climate davos agenda climate change fight...   \n",
       "2     asian quake hits european shares shares europe...   \n",
       "3     india power shares jump debut shares india lar...   \n",
       "4     lacroix label bought firm luxury goods group l...   \n",
       "...                                                 ...   \n",
       "1868  warning windows word files writing microsoft w...   \n",
       "1869  fast lifts rise record books high speed lifts ...   \n",
       "1870  nintendo adds media playing ds nintendo releas...   \n",
       "1871  fast moving phone viruses appear security firm...   \n",
       "1872  hacker threat apple itunes users apple music j...   \n",
       "\n",
       "                                            target_text  article_len  \n",
       "0     despite some positive news for the export sect...          171  \n",
       "1     at the same time about people are expected to ...          233  \n",
       "2     the unfolding scale of the disaster in south a...          304  \n",
       "3     shares in india largest power producer nationa...          105  \n",
       "4     lvmh said the french designer haute couture an...           91  \n",
       "...                                                 ...          ...  \n",
       "1868  writing microsoft word document can be dangero...          248  \n",
       "1869  the lifts take only seconds to whisk passenger...          196  \n",
       "1870  nintendo is releasing an adapter for its ds ha...          152  \n",
       "1871  the new strains of the cabir mobile phone viru...          180  \n",
       "1872  security firm idefence which notified users of...           93  \n",
       "\n",
       "[1873 rows x 3 columns]"
      ]
     },
     "execution_count": 52,
     "metadata": {},
     "output_type": "execute_result"
    }
   ],
   "source": [
    "last_dataframe"
   ]
  },
  {
   "cell_type": "code",
   "execution_count": 53,
   "id": "bfeca1a4",
   "metadata": {},
   "outputs": [],
   "source": [
    "last_dataframe.to_csv('bbcnews.csv')"
   ]
  },
  {
   "cell_type": "code",
   "execution_count": null,
   "id": "a100dafc",
   "metadata": {},
   "outputs": [],
   "source": []
  }
 ],
 "metadata": {
  "kernelspec": {
   "display_name": "Python 3 (ipykernel)",
   "language": "python",
   "name": "python3"
  },
  "language_info": {
   "codemirror_mode": {
    "name": "ipython",
    "version": 3
   },
   "file_extension": ".py",
   "mimetype": "text/x-python",
   "name": "python",
   "nbconvert_exporter": "python",
   "pygments_lexer": "ipython3",
   "version": "3.9.12"
  }
 },
 "nbformat": 4,
 "nbformat_minor": 5
}
